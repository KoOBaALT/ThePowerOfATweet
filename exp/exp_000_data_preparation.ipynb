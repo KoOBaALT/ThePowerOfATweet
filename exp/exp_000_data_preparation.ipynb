{
 "cells": [
  {
   "cell_type": "code",
   "execution_count": 1,
   "metadata": {},
   "outputs": [
    {
     "data": {
      "text/plain": [
       "2355         @28delayslater @justpaulinelol Dogecoin Mode\n",
       "5597     Dogecoin value may vary  https://t.co/UWerAhPv63\n",
       "5598               Dogecoin rulz  https://t.co/flWWUgAgLU\n",
       "5599                                      @dogecoin Uh oh\n",
       "5600    @Tom_Heats Dogecoin might be my fav cryptocurr...\n",
       "2192     Dogecoin value may vary  https://t.co/UWerAhPv63\n",
       "2193               Dogecoin rulz  https://t.co/flWWUgAgLU\n",
       "2194                                      @dogecoin Uh oh\n",
       "2195    @Tom_Heats Dogecoin might be my fav cryptocurr...\n",
       "58      Origin of Doge Day Afternoon: The ancient Roma...\n",
       "149                    @draecomino 2022: Dogecoin is dumb\n",
       "221     @PPathole @dogecoin Just some used Antminer L3...\n",
       "223     @dogecoin I just set up some little Doge minin...\n",
       "254     If major Dogecoin holders sell most of their c...\n",
       "276     Bought some Dogecoin for lil X, so he can be a...\n",
       "310                         @Jbuttermost @Dogecoinrich 🤣🤣\n",
       "312                                      @Dogecoinrich 🤣🤣\n",
       "351                       Dogecoin is the people’s crypto\n",
       "2977         @28delayslater @justpaulinelol Dogecoin Mode\n",
       "6219     Dogecoin value may vary  https://t.co/UWerAhPv63\n",
       "6220               Dogecoin rulz  https://t.co/flWWUgAgLU\n",
       "6221                                      @dogecoin Uh oh\n",
       "6222    @Tom_Heats Dogecoin might be my fav cryptocurr...\n",
       "Name: tweet, dtype: object"
      ]
     },
     "execution_count": 1,
     "metadata": {},
     "output_type": "execute_result"
    }
   ],
   "source": [
    "## import tweet data\n",
    "import pandas as pd\n",
    "import os\n",
    "string = \"../dat/musk_tweets/\"\n",
    "df_tweets = pd.read_csv(string+os.listdir(string)[0])\n",
    "for f in os.listdir(string)[1:]:\n",
    "    df_tweet = pd.read_csv(string+f)\n",
    "    df_tweets = df_tweets.append(df_tweet)\n",
    "    \n",
    "df_tweets = df_tweets.drop(\"Unnamed: 0\", axis = 1)\n",
    "\n",
    "index = df_tweets.tweet.str.contains(\"dogecoin\", case=False)\n",
    "df_tweets[index].tweet"
   ]
  },
  {
   "cell_type": "markdown",
   "metadata": {},
   "source": [
    "Change date column to datetime format"
   ]
  },
  {
   "cell_type": "code",
   "execution_count": 2,
   "metadata": {},
   "outputs": [
    {
     "data": {
      "text/html": [
       "<div>\n",
       "<style scoped>\n",
       "    .dataframe tbody tr th:only-of-type {\n",
       "        vertical-align: middle;\n",
       "    }\n",
       "\n",
       "    .dataframe tbody tr th {\n",
       "        vertical-align: top;\n",
       "    }\n",
       "\n",
       "    .dataframe thead th {\n",
       "        text-align: right;\n",
       "    }\n",
       "</style>\n",
       "<table border=\"1\" class=\"dataframe\">\n",
       "  <thead>\n",
       "    <tr style=\"text-align: right;\">\n",
       "      <th></th>\n",
       "      <th>id</th>\n",
       "      <th>conversation_id</th>\n",
       "      <th>created_at</th>\n",
       "      <th>date</th>\n",
       "      <th>timezone</th>\n",
       "      <th>place</th>\n",
       "      <th>tweet</th>\n",
       "      <th>language</th>\n",
       "      <th>hashtags</th>\n",
       "      <th>cashtags</th>\n",
       "      <th>...</th>\n",
       "      <th>geo</th>\n",
       "      <th>source</th>\n",
       "      <th>user_rt_id</th>\n",
       "      <th>user_rt</th>\n",
       "      <th>retweet_id</th>\n",
       "      <th>reply_to</th>\n",
       "      <th>retweet_date</th>\n",
       "      <th>translate</th>\n",
       "      <th>trans_src</th>\n",
       "      <th>trans_dest</th>\n",
       "    </tr>\n",
       "  </thead>\n",
       "  <tbody>\n",
       "    <tr>\n",
       "      <th>0</th>\n",
       "      <td>416314131545739264</td>\n",
       "      <td>416265844633899008</td>\n",
       "      <td>1.388092e+12</td>\n",
       "      <td>2013-12-26 21:06:38</td>\n",
       "      <td>0</td>\n",
       "      <td>NaN</td>\n",
       "      <td>@olajahr @TeslaMotors Ideally, the S should ju...</td>\n",
       "      <td>en</td>\n",
       "      <td>[]</td>\n",
       "      <td>[]</td>\n",
       "      <td>...</td>\n",
       "      <td>NaN</td>\n",
       "      <td>NaN</td>\n",
       "      <td>NaN</td>\n",
       "      <td>NaN</td>\n",
       "      <td>NaN</td>\n",
       "      <td>[]</td>\n",
       "      <td>NaN</td>\n",
       "      <td>NaN</td>\n",
       "      <td>NaN</td>\n",
       "      <td>NaN</td>\n",
       "    </tr>\n",
       "    <tr>\n",
       "      <th>1</th>\n",
       "      <td>415949158127005698</td>\n",
       "      <td>415904867681460224</td>\n",
       "      <td>1.388005e+12</td>\n",
       "      <td>2013-12-25 20:56:21</td>\n",
       "      <td>0</td>\n",
       "      <td>NaN</td>\n",
       "      <td>@bonnienorman @TeslaMotors @TeslaMotorsClub Me...</td>\n",
       "      <td>et</td>\n",
       "      <td>[]</td>\n",
       "      <td>[]</td>\n",
       "      <td>...</td>\n",
       "      <td>NaN</td>\n",
       "      <td>NaN</td>\n",
       "      <td>NaN</td>\n",
       "      <td>NaN</td>\n",
       "      <td>NaN</td>\n",
       "      <td>[]</td>\n",
       "      <td>NaN</td>\n",
       "      <td>NaN</td>\n",
       "      <td>NaN</td>\n",
       "      <td>NaN</td>\n",
       "    </tr>\n",
       "    <tr>\n",
       "      <th>2</th>\n",
       "      <td>414560643983740928</td>\n",
       "      <td>414456595431432192</td>\n",
       "      <td>1.387674e+12</td>\n",
       "      <td>2013-12-22 00:58:54</td>\n",
       "      <td>0</td>\n",
       "      <td>NaN</td>\n",
       "      <td>@simonhackett Yes, definitely needs a huge amo...</td>\n",
       "      <td>en</td>\n",
       "      <td>[]</td>\n",
       "      <td>[]</td>\n",
       "      <td>...</td>\n",
       "      <td>NaN</td>\n",
       "      <td>NaN</td>\n",
       "      <td>NaN</td>\n",
       "      <td>NaN</td>\n",
       "      <td>NaN</td>\n",
       "      <td>[]</td>\n",
       "      <td>NaN</td>\n",
       "      <td>NaN</td>\n",
       "      <td>NaN</td>\n",
       "      <td>NaN</td>\n",
       "    </tr>\n",
       "    <tr>\n",
       "      <th>3</th>\n",
       "      <td>414456595431432192</td>\n",
       "      <td>414456595431432192</td>\n",
       "      <td>1.387649e+12</td>\n",
       "      <td>2013-12-21 18:05:27</td>\n",
       "      <td>0</td>\n",
       "      <td>NaN</td>\n",
       "      <td>This is why I think solar power will be the pr...</td>\n",
       "      <td>en</td>\n",
       "      <td>[]</td>\n",
       "      <td>[]</td>\n",
       "      <td>...</td>\n",
       "      <td>NaN</td>\n",
       "      <td>NaN</td>\n",
       "      <td>NaN</td>\n",
       "      <td>NaN</td>\n",
       "      <td>NaN</td>\n",
       "      <td>[]</td>\n",
       "      <td>NaN</td>\n",
       "      <td>NaN</td>\n",
       "      <td>NaN</td>\n",
       "      <td>NaN</td>\n",
       "    </tr>\n",
       "    <tr>\n",
       "      <th>4</th>\n",
       "      <td>414456263087370240</td>\n",
       "      <td>414387939661979649</td>\n",
       "      <td>1.387649e+12</td>\n",
       "      <td>2013-12-21 18:04:08</td>\n",
       "      <td>0</td>\n",
       "      <td>NaN</td>\n",
       "      <td>@arcaresenal true</td>\n",
       "      <td>en</td>\n",
       "      <td>[]</td>\n",
       "      <td>[]</td>\n",
       "      <td>...</td>\n",
       "      <td>NaN</td>\n",
       "      <td>NaN</td>\n",
       "      <td>NaN</td>\n",
       "      <td>NaN</td>\n",
       "      <td>NaN</td>\n",
       "      <td>[]</td>\n",
       "      <td>NaN</td>\n",
       "      <td>NaN</td>\n",
       "      <td>NaN</td>\n",
       "      <td>NaN</td>\n",
       "    </tr>\n",
       "  </tbody>\n",
       "</table>\n",
       "<p>5 rows × 38 columns</p>\n",
       "</div>"
      ],
      "text/plain": [
       "                   id     conversation_id    created_at                 date  \\\n",
       "0  416314131545739264  416265844633899008  1.388092e+12  2013-12-26 21:06:38   \n",
       "1  415949158127005698  415904867681460224  1.388005e+12  2013-12-25 20:56:21   \n",
       "2  414560643983740928  414456595431432192  1.387674e+12  2013-12-22 00:58:54   \n",
       "3  414456595431432192  414456595431432192  1.387649e+12  2013-12-21 18:05:27   \n",
       "4  414456263087370240  414387939661979649  1.387649e+12  2013-12-21 18:04:08   \n",
       "\n",
       "   timezone  place                                              tweet  \\\n",
       "0         0    NaN  @olajahr @TeslaMotors Ideally, the S should ju...   \n",
       "1         0    NaN  @bonnienorman @TeslaMotors @TeslaMotorsClub Me...   \n",
       "2         0    NaN  @simonhackett Yes, definitely needs a huge amo...   \n",
       "3         0    NaN  This is why I think solar power will be the pr...   \n",
       "4         0    NaN                                  @arcaresenal true   \n",
       "\n",
       "  language hashtags cashtags  ...  geo  source user_rt_id user_rt  retweet_id  \\\n",
       "0       en       []       []  ...  NaN     NaN        NaN     NaN         NaN   \n",
       "1       et       []       []  ...  NaN     NaN        NaN     NaN         NaN   \n",
       "2       en       []       []  ...  NaN     NaN        NaN     NaN         NaN   \n",
       "3       en       []       []  ...  NaN     NaN        NaN     NaN         NaN   \n",
       "4       en       []       []  ...  NaN     NaN        NaN     NaN         NaN   \n",
       "\n",
       "   reply_to retweet_date translate trans_src  trans_dest  \n",
       "0        []          NaN       NaN       NaN         NaN  \n",
       "1        []          NaN       NaN       NaN         NaN  \n",
       "2        []          NaN       NaN       NaN         NaN  \n",
       "3        []          NaN       NaN       NaN         NaN  \n",
       "4        []          NaN       NaN       NaN         NaN  \n",
       "\n",
       "[5 rows x 38 columns]"
      ]
     },
     "execution_count": 2,
     "metadata": {},
     "output_type": "execute_result"
    }
   ],
   "source": [
    "df_tweets.head()"
   ]
  },
  {
   "cell_type": "code",
   "execution_count": 3,
   "metadata": {},
   "outputs": [],
   "source": [
    "## Change date to datetime format for merging\n",
    "from datetime import datetime\n",
    "import numpy as np\n",
    "\n",
    "date_changer = lambda x: datetime.strptime(x,\"%Y-%m-%d %H:%M:%S\")\n",
    "new_date =  np.array([date_changer(xi) for xi in df_tweets[\"date\"]])\n",
    "\n",
    "df_tweets[\"date\"] = new_date\n",
    "df_tweets[\"date\"] = df_tweets[\"date\"].dt.date\n",
    "df_tweets[\"date\"] = df_tweets[\"date\"].astype(\"string\")\n",
    "df_tweets[\"Date\"] = df_tweets[\"date\"]"
   ]
  },
  {
   "cell_type": "code",
   "execution_count": 4,
   "metadata": {},
   "outputs": [],
   "source": [
    "##filter for dogecoin tweets\n",
    "index = df_tweets.tweet.str.contains(\"dogecoin\", case=False)\n",
    "df_tweets = df_tweets[index]\n",
    "\n",
    "hot_tweets = df_tweets.date \n",
    "hot_tweets = pd.to_datetime(hot_tweets)"
   ]
  },
  {
   "cell_type": "code",
   "execution_count": 5,
   "metadata": {},
   "outputs": [
    {
     "data": {
      "text/plain": [
       "2355   2020-04-25\n",
       "5597   2019-04-02\n",
       "5598   2019-04-02\n",
       "5599   2019-04-02\n",
       "5600   2019-04-02\n",
       "2192   2019-04-02\n",
       "2193   2019-04-02\n",
       "2194   2019-04-02\n",
       "2195   2019-04-02\n",
       "58     2021-03-13\n",
       "149    2021-03-02\n",
       "221    2021-02-20\n",
       "223    2021-02-20\n",
       "254    2021-02-14\n",
       "276    2021-02-10\n",
       "310    2021-02-07\n",
       "312    2021-02-07\n",
       "351    2021-02-04\n",
       "2977   2020-04-25\n",
       "6219   2019-04-02\n",
       "6220   2019-04-02\n",
       "6221   2019-04-02\n",
       "6222   2019-04-02\n",
       "Name: date, dtype: datetime64[ns]"
      ]
     },
     "execution_count": 5,
     "metadata": {},
     "output_type": "execute_result"
    }
   ],
   "source": [
    "## extract hot tweets \n",
    "hot_tweets"
   ]
  },
  {
   "cell_type": "code",
   "execution_count": 6,
   "metadata": {},
   "outputs": [],
   "source": [
    "## create dogcoin data\n",
    "df_dog = pd.read_csv(\"../dat/crypto-stocks/doge-coin-daily.csv\")"
   ]
  },
  {
   "cell_type": "code",
   "execution_count": 7,
   "metadata": {},
   "outputs": [],
   "source": [
    "## change date column to datetime\n",
    "date_changer = lambda x: datetime.strptime(x,\"%Y-%m-%d\")\n",
    "new_date =  np.array([date_changer(xi) for xi in df_dog[\"Date\"]])\n",
    "\n",
    "df_dog[\"Date\"] = new_date \n",
    "df_dog[\"Date\"] = df_dog[\"Date\"].astype(\"string\")\n"
   ]
  },
  {
   "cell_type": "code",
   "execution_count": 8,
   "metadata": {},
   "outputs": [
    {
     "data": {
      "text/plain": [
       "Index(['id', 'conversation_id', 'created_at', 'timezone', 'place', 'tweet',\n",
       "       'language', 'hashtags', 'cashtags', 'user_id', 'user_id_str',\n",
       "       'username', 'name', 'day', 'hour', 'link', 'urls', 'photos', 'video',\n",
       "       'thumbnail', 'retweet', 'nlikes', 'nreplies', 'nretweets', 'quote_url',\n",
       "       'search', 'near', 'geo', 'source', 'user_rt_id', 'user_rt',\n",
       "       'retweet_id', 'reply_to', 'retweet_date', 'translate', 'trans_src',\n",
       "       'trans_dest', 'Date', 'Open', 'High', 'Low', 'Close', 'Volume'],\n",
       "      dtype='object')"
      ]
     },
     "execution_count": 8,
     "metadata": {},
     "output_type": "execute_result"
    }
   ],
   "source": [
    "## merge the two datasets \n",
    "merged_data = df_tweets.merge(df_dog,how = \"outer\" ,on = \"Date\")\n",
    "merged_data = merged_data.drop(labels = \"date\", axis = 1)\n",
    "merged_data.columns"
   ]
  },
  {
   "cell_type": "code",
   "execution_count": 9,
   "metadata": {},
   "outputs": [],
   "source": [
    "## sort values by Date\n",
    "merged_data[\"Date\"] = pd.to_datetime(merged_data[\"Date\"])\n",
    "merged_data = merged_data.sort_values(by=\"Date\")"
   ]
  },
  {
   "cell_type": "code",
   "execution_count": 10,
   "metadata": {},
   "outputs": [
    {
     "data": {
      "text/html": [
       "<div>\n",
       "<style scoped>\n",
       "    .dataframe tbody tr th:only-of-type {\n",
       "        vertical-align: middle;\n",
       "    }\n",
       "\n",
       "    .dataframe tbody tr th {\n",
       "        vertical-align: top;\n",
       "    }\n",
       "\n",
       "    .dataframe thead th {\n",
       "        text-align: right;\n",
       "    }\n",
       "</style>\n",
       "<table border=\"1\" class=\"dataframe\">\n",
       "  <thead>\n",
       "    <tr style=\"text-align: right;\">\n",
       "      <th></th>\n",
       "      <th>id</th>\n",
       "      <th>conversation_id</th>\n",
       "      <th>created_at</th>\n",
       "      <th>timezone</th>\n",
       "      <th>place</th>\n",
       "      <th>tweet</th>\n",
       "      <th>language</th>\n",
       "      <th>hashtags</th>\n",
       "      <th>cashtags</th>\n",
       "      <th>user_id</th>\n",
       "      <th>...</th>\n",
       "      <th>retweet_date</th>\n",
       "      <th>translate</th>\n",
       "      <th>trans_src</th>\n",
       "      <th>trans_dest</th>\n",
       "      <th>Date</th>\n",
       "      <th>Open</th>\n",
       "      <th>High</th>\n",
       "      <th>Low</th>\n",
       "      <th>Close</th>\n",
       "      <th>Volume</th>\n",
       "    </tr>\n",
       "  </thead>\n",
       "  <tbody>\n",
       "    <tr>\n",
       "      <th>3</th>\n",
       "      <td>1.113173e+18</td>\n",
       "      <td>1.113173e+18</td>\n",
       "      <td>1.554236e+12</td>\n",
       "      <td>0.0</td>\n",
       "      <td>NaN</td>\n",
       "      <td>Dogecoin rulz  https://t.co/flWWUgAgLU</td>\n",
       "      <td>ht</td>\n",
       "      <td>[]</td>\n",
       "      <td>[]</td>\n",
       "      <td>44196397.0</td>\n",
       "      <td>...</td>\n",
       "      <td>NaN</td>\n",
       "      <td>NaN</td>\n",
       "      <td>NaN</td>\n",
       "      <td>NaN</td>\n",
       "      <td>2019-04-02</td>\n",
       "      <td>0.002459</td>\n",
       "      <td>0.002863</td>\n",
       "      <td>0.002394</td>\n",
       "      <td>0.002795</td>\n",
       "      <td>60298362</td>\n",
       "    </tr>\n",
       "    <tr>\n",
       "      <th>2</th>\n",
       "      <td>1.113179e+18</td>\n",
       "      <td>1.113179e+18</td>\n",
       "      <td>1.554238e+12</td>\n",
       "      <td>0.0</td>\n",
       "      <td>NaN</td>\n",
       "      <td>Dogecoin value may vary  https://t.co/UWerAhPv63</td>\n",
       "      <td>en</td>\n",
       "      <td>[]</td>\n",
       "      <td>[]</td>\n",
       "      <td>44196397.0</td>\n",
       "      <td>...</td>\n",
       "      <td>NaN</td>\n",
       "      <td>NaN</td>\n",
       "      <td>NaN</td>\n",
       "      <td>NaN</td>\n",
       "      <td>2019-04-02</td>\n",
       "      <td>0.002459</td>\n",
       "      <td>0.002863</td>\n",
       "      <td>0.002394</td>\n",
       "      <td>0.002795</td>\n",
       "      <td>60298362</td>\n",
       "    </tr>\n",
       "    <tr>\n",
       "      <th>4</th>\n",
       "      <td>1.113164e+18</td>\n",
       "      <td>1.113146e+18</td>\n",
       "      <td>1.554234e+12</td>\n",
       "      <td>0.0</td>\n",
       "      <td>NaN</td>\n",
       "      <td>@dogecoin Uh oh</td>\n",
       "      <td>en</td>\n",
       "      <td>[]</td>\n",
       "      <td>[]</td>\n",
       "      <td>44196397.0</td>\n",
       "      <td>...</td>\n",
       "      <td>NaN</td>\n",
       "      <td>NaN</td>\n",
       "      <td>NaN</td>\n",
       "      <td>NaN</td>\n",
       "      <td>2019-04-02</td>\n",
       "      <td>0.002459</td>\n",
       "      <td>0.002863</td>\n",
       "      <td>0.002394</td>\n",
       "      <td>0.002795</td>\n",
       "      <td>60298362</td>\n",
       "    </tr>\n",
       "    <tr>\n",
       "      <th>5</th>\n",
       "      <td>1.113009e+18</td>\n",
       "      <td>1.113009e+18</td>\n",
       "      <td>1.554197e+12</td>\n",
       "      <td>0.0</td>\n",
       "      <td>NaN</td>\n",
       "      <td>@Tom_Heats Dogecoin might be my fav cryptocurr...</td>\n",
       "      <td>en</td>\n",
       "      <td>[]</td>\n",
       "      <td>[]</td>\n",
       "      <td>44196397.0</td>\n",
       "      <td>...</td>\n",
       "      <td>NaN</td>\n",
       "      <td>NaN</td>\n",
       "      <td>NaN</td>\n",
       "      <td>NaN</td>\n",
       "      <td>2019-04-02</td>\n",
       "      <td>0.002459</td>\n",
       "      <td>0.002863</td>\n",
       "      <td>0.002394</td>\n",
       "      <td>0.002795</td>\n",
       "      <td>60298362</td>\n",
       "    </tr>\n",
       "    <tr>\n",
       "      <th>6</th>\n",
       "      <td>1.113179e+18</td>\n",
       "      <td>1.113179e+18</td>\n",
       "      <td>1.554238e+12</td>\n",
       "      <td>0.0</td>\n",
       "      <td>NaN</td>\n",
       "      <td>Dogecoin value may vary  https://t.co/UWerAhPv63</td>\n",
       "      <td>en</td>\n",
       "      <td>[]</td>\n",
       "      <td>[]</td>\n",
       "      <td>44196397.0</td>\n",
       "      <td>...</td>\n",
       "      <td>NaN</td>\n",
       "      <td>NaN</td>\n",
       "      <td>NaN</td>\n",
       "      <td>NaN</td>\n",
       "      <td>2019-04-02</td>\n",
       "      <td>0.002459</td>\n",
       "      <td>0.002863</td>\n",
       "      <td>0.002394</td>\n",
       "      <td>0.002795</td>\n",
       "      <td>60298362</td>\n",
       "    </tr>\n",
       "    <tr>\n",
       "      <th>7</th>\n",
       "      <td>1.113173e+18</td>\n",
       "      <td>1.113173e+18</td>\n",
       "      <td>1.554236e+12</td>\n",
       "      <td>0.0</td>\n",
       "      <td>NaN</td>\n",
       "      <td>Dogecoin rulz  https://t.co/flWWUgAgLU</td>\n",
       "      <td>ht</td>\n",
       "      <td>[]</td>\n",
       "      <td>[]</td>\n",
       "      <td>44196397.0</td>\n",
       "      <td>...</td>\n",
       "      <td>NaN</td>\n",
       "      <td>NaN</td>\n",
       "      <td>NaN</td>\n",
       "      <td>NaN</td>\n",
       "      <td>2019-04-02</td>\n",
       "      <td>0.002459</td>\n",
       "      <td>0.002863</td>\n",
       "      <td>0.002394</td>\n",
       "      <td>0.002795</td>\n",
       "      <td>60298362</td>\n",
       "    </tr>\n",
       "    <tr>\n",
       "      <th>13</th>\n",
       "      <td>1.113009e+18</td>\n",
       "      <td>1.113009e+18</td>\n",
       "      <td>1.554197e+12</td>\n",
       "      <td>0.0</td>\n",
       "      <td>NaN</td>\n",
       "      <td>@Tom_Heats Dogecoin might be my fav cryptocurr...</td>\n",
       "      <td>en</td>\n",
       "      <td>[]</td>\n",
       "      <td>[]</td>\n",
       "      <td>44196397.0</td>\n",
       "      <td>...</td>\n",
       "      <td>NaN</td>\n",
       "      <td>NaN</td>\n",
       "      <td>NaN</td>\n",
       "      <td>NaN</td>\n",
       "      <td>2019-04-02</td>\n",
       "      <td>0.002459</td>\n",
       "      <td>0.002863</td>\n",
       "      <td>0.002394</td>\n",
       "      <td>0.002795</td>\n",
       "      <td>60298362</td>\n",
       "    </tr>\n",
       "    <tr>\n",
       "      <th>12</th>\n",
       "      <td>1.113164e+18</td>\n",
       "      <td>1.113146e+18</td>\n",
       "      <td>1.554234e+12</td>\n",
       "      <td>0.0</td>\n",
       "      <td>NaN</td>\n",
       "      <td>@dogecoin Uh oh</td>\n",
       "      <td>en</td>\n",
       "      <td>[]</td>\n",
       "      <td>[]</td>\n",
       "      <td>44196397.0</td>\n",
       "      <td>...</td>\n",
       "      <td>NaN</td>\n",
       "      <td>NaN</td>\n",
       "      <td>NaN</td>\n",
       "      <td>NaN</td>\n",
       "      <td>2019-04-02</td>\n",
       "      <td>0.002459</td>\n",
       "      <td>0.002863</td>\n",
       "      <td>0.002394</td>\n",
       "      <td>0.002795</td>\n",
       "      <td>60298362</td>\n",
       "    </tr>\n",
       "    <tr>\n",
       "      <th>11</th>\n",
       "      <td>1.113173e+18</td>\n",
       "      <td>1.113173e+18</td>\n",
       "      <td>1.554236e+12</td>\n",
       "      <td>0.0</td>\n",
       "      <td>NaN</td>\n",
       "      <td>Dogecoin rulz  https://t.co/flWWUgAgLU</td>\n",
       "      <td>ht</td>\n",
       "      <td>[]</td>\n",
       "      <td>[]</td>\n",
       "      <td>44196397.0</td>\n",
       "      <td>...</td>\n",
       "      <td>NaN</td>\n",
       "      <td>NaN</td>\n",
       "      <td>NaN</td>\n",
       "      <td>NaN</td>\n",
       "      <td>2019-04-02</td>\n",
       "      <td>0.002459</td>\n",
       "      <td>0.002863</td>\n",
       "      <td>0.002394</td>\n",
       "      <td>0.002795</td>\n",
       "      <td>60298362</td>\n",
       "    </tr>\n",
       "    <tr>\n",
       "      <th>10</th>\n",
       "      <td>1.113179e+18</td>\n",
       "      <td>1.113179e+18</td>\n",
       "      <td>1.554238e+12</td>\n",
       "      <td>0.0</td>\n",
       "      <td>NaN</td>\n",
       "      <td>Dogecoin value may vary  https://t.co/UWerAhPv63</td>\n",
       "      <td>en</td>\n",
       "      <td>[]</td>\n",
       "      <td>[]</td>\n",
       "      <td>44196397.0</td>\n",
       "      <td>...</td>\n",
       "      <td>NaN</td>\n",
       "      <td>NaN</td>\n",
       "      <td>NaN</td>\n",
       "      <td>NaN</td>\n",
       "      <td>2019-04-02</td>\n",
       "      <td>0.002459</td>\n",
       "      <td>0.002863</td>\n",
       "      <td>0.002394</td>\n",
       "      <td>0.002795</td>\n",
       "      <td>60298362</td>\n",
       "    </tr>\n",
       "    <tr>\n",
       "      <th>9</th>\n",
       "      <td>1.113009e+18</td>\n",
       "      <td>1.113009e+18</td>\n",
       "      <td>1.554197e+12</td>\n",
       "      <td>0.0</td>\n",
       "      <td>NaN</td>\n",
       "      <td>@Tom_Heats Dogecoin might be my fav cryptocurr...</td>\n",
       "      <td>en</td>\n",
       "      <td>[]</td>\n",
       "      <td>[]</td>\n",
       "      <td>44196397.0</td>\n",
       "      <td>...</td>\n",
       "      <td>NaN</td>\n",
       "      <td>NaN</td>\n",
       "      <td>NaN</td>\n",
       "      <td>NaN</td>\n",
       "      <td>2019-04-02</td>\n",
       "      <td>0.002459</td>\n",
       "      <td>0.002863</td>\n",
       "      <td>0.002394</td>\n",
       "      <td>0.002795</td>\n",
       "      <td>60298362</td>\n",
       "    </tr>\n",
       "    <tr>\n",
       "      <th>8</th>\n",
       "      <td>1.113164e+18</td>\n",
       "      <td>1.113146e+18</td>\n",
       "      <td>1.554234e+12</td>\n",
       "      <td>0.0</td>\n",
       "      <td>NaN</td>\n",
       "      <td>@dogecoin Uh oh</td>\n",
       "      <td>en</td>\n",
       "      <td>[]</td>\n",
       "      <td>[]</td>\n",
       "      <td>44196397.0</td>\n",
       "      <td>...</td>\n",
       "      <td>NaN</td>\n",
       "      <td>NaN</td>\n",
       "      <td>NaN</td>\n",
       "      <td>NaN</td>\n",
       "      <td>2019-04-02</td>\n",
       "      <td>0.002459</td>\n",
       "      <td>0.002863</td>\n",
       "      <td>0.002394</td>\n",
       "      <td>0.002795</td>\n",
       "      <td>60298362</td>\n",
       "    </tr>\n",
       "    <tr>\n",
       "      <th>0</th>\n",
       "      <td>1.254040e+18</td>\n",
       "      <td>1.254015e+18</td>\n",
       "      <td>1.587821e+12</td>\n",
       "      <td>0.0</td>\n",
       "      <td>NaN</td>\n",
       "      <td>@28delayslater @justpaulinelol Dogecoin Mode</td>\n",
       "      <td>en</td>\n",
       "      <td>[]</td>\n",
       "      <td>[]</td>\n",
       "      <td>44196397.0</td>\n",
       "      <td>...</td>\n",
       "      <td>NaN</td>\n",
       "      <td>NaN</td>\n",
       "      <td>NaN</td>\n",
       "      <td>NaN</td>\n",
       "      <td>2020-04-25</td>\n",
       "      <td>0.002102</td>\n",
       "      <td>0.002146</td>\n",
       "      <td>0.002087</td>\n",
       "      <td>0.002142</td>\n",
       "      <td>229810398</td>\n",
       "    </tr>\n",
       "    <tr>\n",
       "      <th>1</th>\n",
       "      <td>1.254040e+18</td>\n",
       "      <td>1.254015e+18</td>\n",
       "      <td>1.587821e+12</td>\n",
       "      <td>0.0</td>\n",
       "      <td>NaN</td>\n",
       "      <td>@28delayslater @justpaulinelol Dogecoin Mode</td>\n",
       "      <td>en</td>\n",
       "      <td>[]</td>\n",
       "      <td>[]</td>\n",
       "      <td>44196397.0</td>\n",
       "      <td>...</td>\n",
       "      <td>NaN</td>\n",
       "      <td>NaN</td>\n",
       "      <td>NaN</td>\n",
       "      <td>NaN</td>\n",
       "      <td>2020-04-25</td>\n",
       "      <td>0.002102</td>\n",
       "      <td>0.002146</td>\n",
       "      <td>0.002087</td>\n",
       "      <td>0.002142</td>\n",
       "      <td>229810398</td>\n",
       "    </tr>\n",
       "    <tr>\n",
       "      <th>22</th>\n",
       "      <td>1.357241e+18</td>\n",
       "      <td>1.357241e+18</td>\n",
       "      <td>1.612427e+12</td>\n",
       "      <td>0.0</td>\n",
       "      <td>NaN</td>\n",
       "      <td>Dogecoin is the people’s crypto</td>\n",
       "      <td>en</td>\n",
       "      <td>[]</td>\n",
       "      <td>[]</td>\n",
       "      <td>44196397.0</td>\n",
       "      <td>...</td>\n",
       "      <td>NaN</td>\n",
       "      <td>NaN</td>\n",
       "      <td>NaN</td>\n",
       "      <td>NaN</td>\n",
       "      <td>2021-02-04</td>\n",
       "      <td>0.037226</td>\n",
       "      <td>0.057869</td>\n",
       "      <td>0.035945</td>\n",
       "      <td>0.053289</td>\n",
       "      <td>13040837601</td>\n",
       "    </tr>\n",
       "    <tr>\n",
       "      <th>20</th>\n",
       "      <td>1.358243e+18</td>\n",
       "      <td>1.358115e+18</td>\n",
       "      <td>1.612665e+12</td>\n",
       "      <td>0.0</td>\n",
       "      <td>NaN</td>\n",
       "      <td>@Jbuttermost @Dogecoinrich 🤣🤣</td>\n",
       "      <td>und</td>\n",
       "      <td>[]</td>\n",
       "      <td>[]</td>\n",
       "      <td>44196397.0</td>\n",
       "      <td>...</td>\n",
       "      <td>NaN</td>\n",
       "      <td>NaN</td>\n",
       "      <td>NaN</td>\n",
       "      <td>NaN</td>\n",
       "      <td>2021-02-07</td>\n",
       "      <td>0.057502</td>\n",
       "      <td>0.084357</td>\n",
       "      <td>0.054239</td>\n",
       "      <td>0.078782</td>\n",
       "      <td>14261024073</td>\n",
       "    </tr>\n",
       "    <tr>\n",
       "      <th>21</th>\n",
       "      <td>1.358240e+18</td>\n",
       "      <td>1.358115e+18</td>\n",
       "      <td>1.612665e+12</td>\n",
       "      <td>0.0</td>\n",
       "      <td>NaN</td>\n",
       "      <td>@Dogecoinrich 🤣🤣</td>\n",
       "      <td>und</td>\n",
       "      <td>[]</td>\n",
       "      <td>[]</td>\n",
       "      <td>44196397.0</td>\n",
       "      <td>...</td>\n",
       "      <td>NaN</td>\n",
       "      <td>NaN</td>\n",
       "      <td>NaN</td>\n",
       "      <td>NaN</td>\n",
       "      <td>2021-02-07</td>\n",
       "      <td>0.057502</td>\n",
       "      <td>0.084357</td>\n",
       "      <td>0.054239</td>\n",
       "      <td>0.078782</td>\n",
       "      <td>14261024073</td>\n",
       "    </tr>\n",
       "    <tr>\n",
       "      <th>19</th>\n",
       "      <td>1.359520e+18</td>\n",
       "      <td>1.359520e+18</td>\n",
       "      <td>1.612970e+12</td>\n",
       "      <td>0.0</td>\n",
       "      <td>NaN</td>\n",
       "      <td>Bought some Dogecoin for lil X, so he can be a...</td>\n",
       "      <td>en</td>\n",
       "      <td>[]</td>\n",
       "      <td>[]</td>\n",
       "      <td>44196397.0</td>\n",
       "      <td>...</td>\n",
       "      <td>NaN</td>\n",
       "      <td>NaN</td>\n",
       "      <td>NaN</td>\n",
       "      <td>NaN</td>\n",
       "      <td>2021-02-10</td>\n",
       "      <td>0.070111</td>\n",
       "      <td>0.081091</td>\n",
       "      <td>0.068525</td>\n",
       "      <td>0.072896</td>\n",
       "      <td>6785088422</td>\n",
       "    </tr>\n",
       "    <tr>\n",
       "      <th>18</th>\n",
       "      <td>1.361094e+18</td>\n",
       "      <td>1.361094e+18</td>\n",
       "      <td>1.613345e+12</td>\n",
       "      <td>0.0</td>\n",
       "      <td>NaN</td>\n",
       "      <td>If major Dogecoin holders sell most of their c...</td>\n",
       "      <td>en</td>\n",
       "      <td>[]</td>\n",
       "      <td>[]</td>\n",
       "      <td>44196397.0</td>\n",
       "      <td>...</td>\n",
       "      <td>NaN</td>\n",
       "      <td>NaN</td>\n",
       "      <td>NaN</td>\n",
       "      <td>NaN</td>\n",
       "      <td>2021-02-14</td>\n",
       "      <td>0.066448</td>\n",
       "      <td>0.066448</td>\n",
       "      <td>0.056723</td>\n",
       "      <td>0.062537</td>\n",
       "      <td>3984667628</td>\n",
       "    </tr>\n",
       "    <tr>\n",
       "      <th>17</th>\n",
       "      <td>1.363046e+18</td>\n",
       "      <td>1.362772e+18</td>\n",
       "      <td>1.613811e+12</td>\n",
       "      <td>0.0</td>\n",
       "      <td>NaN</td>\n",
       "      <td>@dogecoin I just set up some little Doge minin...</td>\n",
       "      <td>en</td>\n",
       "      <td>[]</td>\n",
       "      <td>[]</td>\n",
       "      <td>44196397.0</td>\n",
       "      <td>...</td>\n",
       "      <td>NaN</td>\n",
       "      <td>NaN</td>\n",
       "      <td>NaN</td>\n",
       "      <td>NaN</td>\n",
       "      <td>2021-02-20</td>\n",
       "      <td>0.055132</td>\n",
       "      <td>0.060286</td>\n",
       "      <td>0.051628</td>\n",
       "      <td>0.054384</td>\n",
       "      <td>3175468554</td>\n",
       "    </tr>\n",
       "    <tr>\n",
       "      <th>16</th>\n",
       "      <td>1.363067e+18</td>\n",
       "      <td>1.362772e+18</td>\n",
       "      <td>1.613816e+12</td>\n",
       "      <td>0.0</td>\n",
       "      <td>NaN</td>\n",
       "      <td>@PPathole @dogecoin Just some used Antminer L3...</td>\n",
       "      <td>en</td>\n",
       "      <td>[]</td>\n",
       "      <td>[]</td>\n",
       "      <td>44196397.0</td>\n",
       "      <td>...</td>\n",
       "      <td>NaN</td>\n",
       "      <td>NaN</td>\n",
       "      <td>NaN</td>\n",
       "      <td>NaN</td>\n",
       "      <td>2021-02-20</td>\n",
       "      <td>0.055132</td>\n",
       "      <td>0.060286</td>\n",
       "      <td>0.051628</td>\n",
       "      <td>0.054384</td>\n",
       "      <td>3175468554</td>\n",
       "    </tr>\n",
       "    <tr>\n",
       "      <th>15</th>\n",
       "      <td>1.366669e+18</td>\n",
       "      <td>1.366427e+18</td>\n",
       "      <td>1.614674e+12</td>\n",
       "      <td>0.0</td>\n",
       "      <td>NaN</td>\n",
       "      <td>@draecomino 2022: Dogecoin is dumb</td>\n",
       "      <td>en</td>\n",
       "      <td>[]</td>\n",
       "      <td>[]</td>\n",
       "      <td>44196397.0</td>\n",
       "      <td>...</td>\n",
       "      <td>NaN</td>\n",
       "      <td>NaN</td>\n",
       "      <td>NaN</td>\n",
       "      <td>NaN</td>\n",
       "      <td>2021-03-02</td>\n",
       "      <td>0.050596</td>\n",
       "      <td>0.052382</td>\n",
       "      <td>0.049299</td>\n",
       "      <td>0.050262</td>\n",
       "      <td>1346282318</td>\n",
       "    </tr>\n",
       "    <tr>\n",
       "      <th>14</th>\n",
       "      <td>1.370884e+18</td>\n",
       "      <td>1.370883e+18</td>\n",
       "      <td>1.615679e+12</td>\n",
       "      <td>0.0</td>\n",
       "      <td>NaN</td>\n",
       "      <td>Origin of Doge Day Afternoon: The ancient Roma...</td>\n",
       "      <td>en</td>\n",
       "      <td>[]</td>\n",
       "      <td>[]</td>\n",
       "      <td>44196397.0</td>\n",
       "      <td>...</td>\n",
       "      <td>NaN</td>\n",
       "      <td>NaN</td>\n",
       "      <td>NaN</td>\n",
       "      <td>NaN</td>\n",
       "      <td>2021-03-13</td>\n",
       "      <td>0.055353</td>\n",
       "      <td>0.062432</td>\n",
       "      <td>0.054756</td>\n",
       "      <td>0.062432</td>\n",
       "      <td>1869833076</td>\n",
       "    </tr>\n",
       "  </tbody>\n",
       "</table>\n",
       "<p>23 rows × 43 columns</p>\n",
       "</div>"
      ],
      "text/plain": [
       "              id  conversation_id    created_at  timezone  place  \\\n",
       "3   1.113173e+18     1.113173e+18  1.554236e+12       0.0    NaN   \n",
       "2   1.113179e+18     1.113179e+18  1.554238e+12       0.0    NaN   \n",
       "4   1.113164e+18     1.113146e+18  1.554234e+12       0.0    NaN   \n",
       "5   1.113009e+18     1.113009e+18  1.554197e+12       0.0    NaN   \n",
       "6   1.113179e+18     1.113179e+18  1.554238e+12       0.0    NaN   \n",
       "7   1.113173e+18     1.113173e+18  1.554236e+12       0.0    NaN   \n",
       "13  1.113009e+18     1.113009e+18  1.554197e+12       0.0    NaN   \n",
       "12  1.113164e+18     1.113146e+18  1.554234e+12       0.0    NaN   \n",
       "11  1.113173e+18     1.113173e+18  1.554236e+12       0.0    NaN   \n",
       "10  1.113179e+18     1.113179e+18  1.554238e+12       0.0    NaN   \n",
       "9   1.113009e+18     1.113009e+18  1.554197e+12       0.0    NaN   \n",
       "8   1.113164e+18     1.113146e+18  1.554234e+12       0.0    NaN   \n",
       "0   1.254040e+18     1.254015e+18  1.587821e+12       0.0    NaN   \n",
       "1   1.254040e+18     1.254015e+18  1.587821e+12       0.0    NaN   \n",
       "22  1.357241e+18     1.357241e+18  1.612427e+12       0.0    NaN   \n",
       "20  1.358243e+18     1.358115e+18  1.612665e+12       0.0    NaN   \n",
       "21  1.358240e+18     1.358115e+18  1.612665e+12       0.0    NaN   \n",
       "19  1.359520e+18     1.359520e+18  1.612970e+12       0.0    NaN   \n",
       "18  1.361094e+18     1.361094e+18  1.613345e+12       0.0    NaN   \n",
       "17  1.363046e+18     1.362772e+18  1.613811e+12       0.0    NaN   \n",
       "16  1.363067e+18     1.362772e+18  1.613816e+12       0.0    NaN   \n",
       "15  1.366669e+18     1.366427e+18  1.614674e+12       0.0    NaN   \n",
       "14  1.370884e+18     1.370883e+18  1.615679e+12       0.0    NaN   \n",
       "\n",
       "                                                tweet language hashtags  \\\n",
       "3              Dogecoin rulz  https://t.co/flWWUgAgLU       ht       []   \n",
       "2    Dogecoin value may vary  https://t.co/UWerAhPv63       en       []   \n",
       "4                                     @dogecoin Uh oh       en       []   \n",
       "5   @Tom_Heats Dogecoin might be my fav cryptocurr...       en       []   \n",
       "6    Dogecoin value may vary  https://t.co/UWerAhPv63       en       []   \n",
       "7              Dogecoin rulz  https://t.co/flWWUgAgLU       ht       []   \n",
       "13  @Tom_Heats Dogecoin might be my fav cryptocurr...       en       []   \n",
       "12                                    @dogecoin Uh oh       en       []   \n",
       "11             Dogecoin rulz  https://t.co/flWWUgAgLU       ht       []   \n",
       "10   Dogecoin value may vary  https://t.co/UWerAhPv63       en       []   \n",
       "9   @Tom_Heats Dogecoin might be my fav cryptocurr...       en       []   \n",
       "8                                     @dogecoin Uh oh       en       []   \n",
       "0        @28delayslater @justpaulinelol Dogecoin Mode       en       []   \n",
       "1        @28delayslater @justpaulinelol Dogecoin Mode       en       []   \n",
       "22                    Dogecoin is the people’s crypto       en       []   \n",
       "20                      @Jbuttermost @Dogecoinrich 🤣🤣      und       []   \n",
       "21                                   @Dogecoinrich 🤣🤣      und       []   \n",
       "19  Bought some Dogecoin for lil X, so he can be a...       en       []   \n",
       "18  If major Dogecoin holders sell most of their c...       en       []   \n",
       "17  @dogecoin I just set up some little Doge minin...       en       []   \n",
       "16  @PPathole @dogecoin Just some used Antminer L3...       en       []   \n",
       "15                 @draecomino 2022: Dogecoin is dumb       en       []   \n",
       "14  Origin of Doge Day Afternoon: The ancient Roma...       en       []   \n",
       "\n",
       "   cashtags     user_id  ...  retweet_date translate trans_src  trans_dest  \\\n",
       "3        []  44196397.0  ...           NaN       NaN       NaN         NaN   \n",
       "2        []  44196397.0  ...           NaN       NaN       NaN         NaN   \n",
       "4        []  44196397.0  ...           NaN       NaN       NaN         NaN   \n",
       "5        []  44196397.0  ...           NaN       NaN       NaN         NaN   \n",
       "6        []  44196397.0  ...           NaN       NaN       NaN         NaN   \n",
       "7        []  44196397.0  ...           NaN       NaN       NaN         NaN   \n",
       "13       []  44196397.0  ...           NaN       NaN       NaN         NaN   \n",
       "12       []  44196397.0  ...           NaN       NaN       NaN         NaN   \n",
       "11       []  44196397.0  ...           NaN       NaN       NaN         NaN   \n",
       "10       []  44196397.0  ...           NaN       NaN       NaN         NaN   \n",
       "9        []  44196397.0  ...           NaN       NaN       NaN         NaN   \n",
       "8        []  44196397.0  ...           NaN       NaN       NaN         NaN   \n",
       "0        []  44196397.0  ...           NaN       NaN       NaN         NaN   \n",
       "1        []  44196397.0  ...           NaN       NaN       NaN         NaN   \n",
       "22       []  44196397.0  ...           NaN       NaN       NaN         NaN   \n",
       "20       []  44196397.0  ...           NaN       NaN       NaN         NaN   \n",
       "21       []  44196397.0  ...           NaN       NaN       NaN         NaN   \n",
       "19       []  44196397.0  ...           NaN       NaN       NaN         NaN   \n",
       "18       []  44196397.0  ...           NaN       NaN       NaN         NaN   \n",
       "17       []  44196397.0  ...           NaN       NaN       NaN         NaN   \n",
       "16       []  44196397.0  ...           NaN       NaN       NaN         NaN   \n",
       "15       []  44196397.0  ...           NaN       NaN       NaN         NaN   \n",
       "14       []  44196397.0  ...           NaN       NaN       NaN         NaN   \n",
       "\n",
       "         Date      Open      High       Low     Close       Volume  \n",
       "3  2019-04-02  0.002459  0.002863  0.002394  0.002795     60298362  \n",
       "2  2019-04-02  0.002459  0.002863  0.002394  0.002795     60298362  \n",
       "4  2019-04-02  0.002459  0.002863  0.002394  0.002795     60298362  \n",
       "5  2019-04-02  0.002459  0.002863  0.002394  0.002795     60298362  \n",
       "6  2019-04-02  0.002459  0.002863  0.002394  0.002795     60298362  \n",
       "7  2019-04-02  0.002459  0.002863  0.002394  0.002795     60298362  \n",
       "13 2019-04-02  0.002459  0.002863  0.002394  0.002795     60298362  \n",
       "12 2019-04-02  0.002459  0.002863  0.002394  0.002795     60298362  \n",
       "11 2019-04-02  0.002459  0.002863  0.002394  0.002795     60298362  \n",
       "10 2019-04-02  0.002459  0.002863  0.002394  0.002795     60298362  \n",
       "9  2019-04-02  0.002459  0.002863  0.002394  0.002795     60298362  \n",
       "8  2019-04-02  0.002459  0.002863  0.002394  0.002795     60298362  \n",
       "0  2020-04-25  0.002102  0.002146  0.002087  0.002142    229810398  \n",
       "1  2020-04-25  0.002102  0.002146  0.002087  0.002142    229810398  \n",
       "22 2021-02-04  0.037226  0.057869  0.035945  0.053289  13040837601  \n",
       "20 2021-02-07  0.057502  0.084357  0.054239  0.078782  14261024073  \n",
       "21 2021-02-07  0.057502  0.084357  0.054239  0.078782  14261024073  \n",
       "19 2021-02-10  0.070111  0.081091  0.068525  0.072896   6785088422  \n",
       "18 2021-02-14  0.066448  0.066448  0.056723  0.062537   3984667628  \n",
       "17 2021-02-20  0.055132  0.060286  0.051628  0.054384   3175468554  \n",
       "16 2021-02-20  0.055132  0.060286  0.051628  0.054384   3175468554  \n",
       "15 2021-03-02  0.050596  0.052382  0.049299  0.050262   1346282318  \n",
       "14 2021-03-13  0.055353  0.062432  0.054756  0.062432   1869833076  \n",
       "\n",
       "[23 rows x 43 columns]"
      ]
     },
     "execution_count": 10,
     "metadata": {},
     "output_type": "execute_result"
    }
   ],
   "source": [
    "## sanity check\n",
    "merged_data[~ merged_data.tweet.isnull()]"
   ]
  },
  {
   "cell_type": "code",
   "execution_count": 11,
   "metadata": {},
   "outputs": [],
   "source": [
    "## create full dataset to work with usefull columns\n",
    "full_dataset = merged_data[[\"tweet\",'hashtags', 'cashtags', \n",
    "                                'day', 'hour', 'link', 'urls', \n",
    "                                'retweet', 'nlikes', 'nreplies', \n",
    "                                'nretweets', 'quote_url','reply_to', \n",
    "                                'retweet_date','Date', 'Open', 'High', \n",
    "                                'Low', 'Close', 'Volume']]\n",
    "\n"
   ]
  },
  {
   "cell_type": "code",
   "execution_count": 25,
   "metadata": {},
   "outputs": [],
   "source": [
    "#full_dataset[full_dataset[\"Date\"] == \"2019-04-02\"]\n",
    "hot_day_ind = np.where(full_dataset[\"Date\"] == \"2021-02-04\")[0]\n",
    "start = hot_day_ind[-1]\n",
    "\n",
    "\n",
    "data_first_tweet = full_dataset[start-30:start+30]"
   ]
  },
  {
   "cell_type": "code",
   "execution_count": 26,
   "metadata": {},
   "outputs": [
    {
     "data": {
      "application/vnd.plotly.v1+json": {
       "config": {
        "plotlyServerURL": "https://plot.ly"
       },
       "data": [
        {
         "hovertemplate": "variable=Low<br>Date=%{x}<br>value=%{y}<extra></extra>",
         "legendgroup": "Low",
         "line": {
          "color": "#636efa",
          "dash": "solid"
         },
         "marker": {
          "symbol": "circle"
         },
         "mode": "lines",
         "name": "Low",
         "orientation": "v",
         "showlegend": true,
         "type": "scatter",
         "x": [
          "2021-01-05T00:00:00",
          "2021-01-06T00:00:00",
          "2021-01-07T00:00:00",
          "2021-01-08T00:00:00",
          "2021-01-09T00:00:00",
          "2021-01-10T00:00:00",
          "2021-01-11T00:00:00",
          "2021-01-12T00:00:00",
          "2021-01-13T00:00:00",
          "2021-01-14T00:00:00",
          "2021-01-15T00:00:00",
          "2021-01-16T00:00:00",
          "2021-01-17T00:00:00",
          "2021-01-18T00:00:00",
          "2021-01-19T00:00:00",
          "2021-01-20T00:00:00",
          "2021-01-21T00:00:00",
          "2021-01-22T00:00:00",
          "2021-01-23T00:00:00",
          "2021-01-24T00:00:00",
          "2021-01-25T00:00:00",
          "2021-01-26T00:00:00",
          "2021-01-27T00:00:00",
          "2021-01-28T00:00:00",
          "2021-01-29T00:00:00",
          "2021-01-30T00:00:00",
          "2021-01-31T00:00:00",
          "2021-02-01T00:00:00",
          "2021-02-02T00:00:00",
          "2021-02-03T00:00:00",
          "2021-02-04T00:00:00",
          "2021-02-05T00:00:00",
          "2021-02-06T00:00:00",
          "2021-02-07T00:00:00",
          "2021-02-07T00:00:00",
          "2021-02-08T00:00:00",
          "2021-02-09T00:00:00",
          "2021-02-10T00:00:00",
          "2021-02-11T00:00:00",
          "2021-02-12T00:00:00",
          "2021-02-13T00:00:00",
          "2021-02-14T00:00:00",
          "2021-02-15T00:00:00",
          "2021-02-16T00:00:00",
          "2021-02-17T00:00:00",
          "2021-02-18T00:00:00",
          "2021-02-19T00:00:00",
          "2021-02-20T00:00:00",
          "2021-02-20T00:00:00",
          "2021-02-21T00:00:00",
          "2021-02-22T00:00:00",
          "2021-02-23T00:00:00",
          "2021-02-24T00:00:00",
          "2021-02-25T00:00:00",
          "2021-02-26T00:00:00",
          "2021-02-27T00:00:00",
          "2021-02-28T00:00:00",
          "2021-03-01T00:00:00",
          "2021-03-02T00:00:00",
          "2021-03-03T00:00:00"
         ],
         "xaxis": "x",
         "y": [
          0.008972,
          0.009685,
          0.009162,
          0.008986,
          0.00974,
          0.009177,
          0.00677,
          0.007904,
          0.007787,
          0.008349,
          0.00846,
          0.00914,
          0.008841,
          0.008981,
          0.00902,
          0.008529,
          0.008061,
          0.007654,
          0.008388,
          0.008516,
          0.008276,
          0.008022,
          0.007294,
          0.007351,
          0.032341,
          0.022488,
          0.027102,
          0.033367,
          0.029195,
          0.031146,
          0.035945,
          0.04354,
          0.044904,
          0.054239,
          0.054239,
          0.064702,
          0.065621,
          0.068525,
          0.06829,
          0.061445,
          0.066135,
          0.056723,
          0.048547,
          0.050983,
          0.048034,
          0.048989,
          0.054315,
          0.051628,
          0.051628,
          0.053556,
          0.047096,
          0.04241,
          0.046216,
          0.049869,
          0.048708,
          0.049297,
          0.045088,
          0.048029,
          0.049299,
          0.050078
         ],
         "yaxis": "y"
        },
        {
         "hovertemplate": "variable=High<br>Date=%{x}<br>value=%{y}<extra></extra>",
         "legendgroup": "High",
         "line": {
          "color": "#EF553B",
          "dash": "solid"
         },
         "marker": {
          "symbol": "circle"
         },
         "mode": "lines",
         "name": "High",
         "orientation": "v",
         "showlegend": true,
         "type": "scatter",
         "x": [
          "2021-01-05T00:00:00",
          "2021-01-06T00:00:00",
          "2021-01-07T00:00:00",
          "2021-01-08T00:00:00",
          "2021-01-09T00:00:00",
          "2021-01-10T00:00:00",
          "2021-01-11T00:00:00",
          "2021-01-12T00:00:00",
          "2021-01-13T00:00:00",
          "2021-01-14T00:00:00",
          "2021-01-15T00:00:00",
          "2021-01-16T00:00:00",
          "2021-01-17T00:00:00",
          "2021-01-18T00:00:00",
          "2021-01-19T00:00:00",
          "2021-01-20T00:00:00",
          "2021-01-21T00:00:00",
          "2021-01-22T00:00:00",
          "2021-01-23T00:00:00",
          "2021-01-24T00:00:00",
          "2021-01-25T00:00:00",
          "2021-01-26T00:00:00",
          "2021-01-27T00:00:00",
          "2021-01-28T00:00:00",
          "2021-01-29T00:00:00",
          "2021-01-30T00:00:00",
          "2021-01-31T00:00:00",
          "2021-02-01T00:00:00",
          "2021-02-02T00:00:00",
          "2021-02-03T00:00:00",
          "2021-02-04T00:00:00",
          "2021-02-05T00:00:00",
          "2021-02-06T00:00:00",
          "2021-02-07T00:00:00",
          "2021-02-07T00:00:00",
          "2021-02-08T00:00:00",
          "2021-02-09T00:00:00",
          "2021-02-10T00:00:00",
          "2021-02-11T00:00:00",
          "2021-02-12T00:00:00",
          "2021-02-13T00:00:00",
          "2021-02-14T00:00:00",
          "2021-02-15T00:00:00",
          "2021-02-16T00:00:00",
          "2021-02-17T00:00:00",
          "2021-02-18T00:00:00",
          "2021-02-19T00:00:00",
          "2021-02-20T00:00:00",
          "2021-02-20T00:00:00",
          "2021-02-21T00:00:00",
          "2021-02-22T00:00:00",
          "2021-02-23T00:00:00",
          "2021-02-24T00:00:00",
          "2021-02-25T00:00:00",
          "2021-02-26T00:00:00",
          "2021-02-27T00:00:00",
          "2021-02-28T00:00:00",
          "2021-03-01T00:00:00",
          "2021-03-02T00:00:00",
          "2021-03-03T00:00:00"
         ],
         "xaxis": "x",
         "y": [
          0.010219,
          0.010854,
          0.010532,
          0.010285,
          0.01074,
          0.010867,
          0.009858,
          0.009145,
          0.008646,
          0.01003,
          0.009796,
          0.009531,
          0.009367,
          0.009295,
          0.009613,
          0.009153,
          0.009089,
          0.008769,
          0.008808,
          0.008951,
          0.008879,
          0.008456,
          0.008259,
          0.034177,
          0.077973,
          0.049901,
          0.045289,
          0.04325,
          0.034926,
          0.039105,
          0.057869,
          0.05374,
          0.058308,
          0.084357,
          0.084357,
          0.084945,
          0.083128,
          0.081091,
          0.074301,
          0.07261,
          0.071646,
          0.066448,
          0.063924,
          0.059668,
          0.054983,
          0.061799,
          0.059497,
          0.060286,
          0.060286,
          0.058428,
          0.060466,
          0.053768,
          0.059873,
          0.057808,
          0.052472,
          0.05192,
          0.050134,
          0.051479,
          0.052382,
          0.052126
         ],
         "yaxis": "y"
        }
       ],
       "layout": {
        "legend": {
         "title": {
          "text": "variable"
         },
         "tracegroupgap": 0
        },
        "template": {
         "data": {
          "bar": [
           {
            "error_x": {
             "color": "#2a3f5f"
            },
            "error_y": {
             "color": "#2a3f5f"
            },
            "marker": {
             "line": {
              "color": "#E5ECF6",
              "width": 0.5
             },
             "pattern": {
              "fillmode": "overlay",
              "size": 10,
              "solidity": 0.2
             }
            },
            "type": "bar"
           }
          ],
          "barpolar": [
           {
            "marker": {
             "line": {
              "color": "#E5ECF6",
              "width": 0.5
             },
             "pattern": {
              "fillmode": "overlay",
              "size": 10,
              "solidity": 0.2
             }
            },
            "type": "barpolar"
           }
          ],
          "carpet": [
           {
            "aaxis": {
             "endlinecolor": "#2a3f5f",
             "gridcolor": "white",
             "linecolor": "white",
             "minorgridcolor": "white",
             "startlinecolor": "#2a3f5f"
            },
            "baxis": {
             "endlinecolor": "#2a3f5f",
             "gridcolor": "white",
             "linecolor": "white",
             "minorgridcolor": "white",
             "startlinecolor": "#2a3f5f"
            },
            "type": "carpet"
           }
          ],
          "choropleth": [
           {
            "colorbar": {
             "outlinewidth": 0,
             "ticks": ""
            },
            "type": "choropleth"
           }
          ],
          "contour": [
           {
            "colorbar": {
             "outlinewidth": 0,
             "ticks": ""
            },
            "colorscale": [
             [
              0,
              "#0d0887"
             ],
             [
              0.1111111111111111,
              "#46039f"
             ],
             [
              0.2222222222222222,
              "#7201a8"
             ],
             [
              0.3333333333333333,
              "#9c179e"
             ],
             [
              0.4444444444444444,
              "#bd3786"
             ],
             [
              0.5555555555555556,
              "#d8576b"
             ],
             [
              0.6666666666666666,
              "#ed7953"
             ],
             [
              0.7777777777777778,
              "#fb9f3a"
             ],
             [
              0.8888888888888888,
              "#fdca26"
             ],
             [
              1,
              "#f0f921"
             ]
            ],
            "type": "contour"
           }
          ],
          "contourcarpet": [
           {
            "colorbar": {
             "outlinewidth": 0,
             "ticks": ""
            },
            "type": "contourcarpet"
           }
          ],
          "heatmap": [
           {
            "colorbar": {
             "outlinewidth": 0,
             "ticks": ""
            },
            "colorscale": [
             [
              0,
              "#0d0887"
             ],
             [
              0.1111111111111111,
              "#46039f"
             ],
             [
              0.2222222222222222,
              "#7201a8"
             ],
             [
              0.3333333333333333,
              "#9c179e"
             ],
             [
              0.4444444444444444,
              "#bd3786"
             ],
             [
              0.5555555555555556,
              "#d8576b"
             ],
             [
              0.6666666666666666,
              "#ed7953"
             ],
             [
              0.7777777777777778,
              "#fb9f3a"
             ],
             [
              0.8888888888888888,
              "#fdca26"
             ],
             [
              1,
              "#f0f921"
             ]
            ],
            "type": "heatmap"
           }
          ],
          "heatmapgl": [
           {
            "colorbar": {
             "outlinewidth": 0,
             "ticks": ""
            },
            "colorscale": [
             [
              0,
              "#0d0887"
             ],
             [
              0.1111111111111111,
              "#46039f"
             ],
             [
              0.2222222222222222,
              "#7201a8"
             ],
             [
              0.3333333333333333,
              "#9c179e"
             ],
             [
              0.4444444444444444,
              "#bd3786"
             ],
             [
              0.5555555555555556,
              "#d8576b"
             ],
             [
              0.6666666666666666,
              "#ed7953"
             ],
             [
              0.7777777777777778,
              "#fb9f3a"
             ],
             [
              0.8888888888888888,
              "#fdca26"
             ],
             [
              1,
              "#f0f921"
             ]
            ],
            "type": "heatmapgl"
           }
          ],
          "histogram": [
           {
            "marker": {
             "pattern": {
              "fillmode": "overlay",
              "size": 10,
              "solidity": 0.2
             }
            },
            "type": "histogram"
           }
          ],
          "histogram2d": [
           {
            "colorbar": {
             "outlinewidth": 0,
             "ticks": ""
            },
            "colorscale": [
             [
              0,
              "#0d0887"
             ],
             [
              0.1111111111111111,
              "#46039f"
             ],
             [
              0.2222222222222222,
              "#7201a8"
             ],
             [
              0.3333333333333333,
              "#9c179e"
             ],
             [
              0.4444444444444444,
              "#bd3786"
             ],
             [
              0.5555555555555556,
              "#d8576b"
             ],
             [
              0.6666666666666666,
              "#ed7953"
             ],
             [
              0.7777777777777778,
              "#fb9f3a"
             ],
             [
              0.8888888888888888,
              "#fdca26"
             ],
             [
              1,
              "#f0f921"
             ]
            ],
            "type": "histogram2d"
           }
          ],
          "histogram2dcontour": [
           {
            "colorbar": {
             "outlinewidth": 0,
             "ticks": ""
            },
            "colorscale": [
             [
              0,
              "#0d0887"
             ],
             [
              0.1111111111111111,
              "#46039f"
             ],
             [
              0.2222222222222222,
              "#7201a8"
             ],
             [
              0.3333333333333333,
              "#9c179e"
             ],
             [
              0.4444444444444444,
              "#bd3786"
             ],
             [
              0.5555555555555556,
              "#d8576b"
             ],
             [
              0.6666666666666666,
              "#ed7953"
             ],
             [
              0.7777777777777778,
              "#fb9f3a"
             ],
             [
              0.8888888888888888,
              "#fdca26"
             ],
             [
              1,
              "#f0f921"
             ]
            ],
            "type": "histogram2dcontour"
           }
          ],
          "mesh3d": [
           {
            "colorbar": {
             "outlinewidth": 0,
             "ticks": ""
            },
            "type": "mesh3d"
           }
          ],
          "parcoords": [
           {
            "line": {
             "colorbar": {
              "outlinewidth": 0,
              "ticks": ""
             }
            },
            "type": "parcoords"
           }
          ],
          "pie": [
           {
            "automargin": true,
            "type": "pie"
           }
          ],
          "scatter": [
           {
            "marker": {
             "colorbar": {
              "outlinewidth": 0,
              "ticks": ""
             }
            },
            "type": "scatter"
           }
          ],
          "scatter3d": [
           {
            "line": {
             "colorbar": {
              "outlinewidth": 0,
              "ticks": ""
             }
            },
            "marker": {
             "colorbar": {
              "outlinewidth": 0,
              "ticks": ""
             }
            },
            "type": "scatter3d"
           }
          ],
          "scattercarpet": [
           {
            "marker": {
             "colorbar": {
              "outlinewidth": 0,
              "ticks": ""
             }
            },
            "type": "scattercarpet"
           }
          ],
          "scattergeo": [
           {
            "marker": {
             "colorbar": {
              "outlinewidth": 0,
              "ticks": ""
             }
            },
            "type": "scattergeo"
           }
          ],
          "scattergl": [
           {
            "marker": {
             "colorbar": {
              "outlinewidth": 0,
              "ticks": ""
             }
            },
            "type": "scattergl"
           }
          ],
          "scattermapbox": [
           {
            "marker": {
             "colorbar": {
              "outlinewidth": 0,
              "ticks": ""
             }
            },
            "type": "scattermapbox"
           }
          ],
          "scatterpolar": [
           {
            "marker": {
             "colorbar": {
              "outlinewidth": 0,
              "ticks": ""
             }
            },
            "type": "scatterpolar"
           }
          ],
          "scatterpolargl": [
           {
            "marker": {
             "colorbar": {
              "outlinewidth": 0,
              "ticks": ""
             }
            },
            "type": "scatterpolargl"
           }
          ],
          "scatterternary": [
           {
            "marker": {
             "colorbar": {
              "outlinewidth": 0,
              "ticks": ""
             }
            },
            "type": "scatterternary"
           }
          ],
          "surface": [
           {
            "colorbar": {
             "outlinewidth": 0,
             "ticks": ""
            },
            "colorscale": [
             [
              0,
              "#0d0887"
             ],
             [
              0.1111111111111111,
              "#46039f"
             ],
             [
              0.2222222222222222,
              "#7201a8"
             ],
             [
              0.3333333333333333,
              "#9c179e"
             ],
             [
              0.4444444444444444,
              "#bd3786"
             ],
             [
              0.5555555555555556,
              "#d8576b"
             ],
             [
              0.6666666666666666,
              "#ed7953"
             ],
             [
              0.7777777777777778,
              "#fb9f3a"
             ],
             [
              0.8888888888888888,
              "#fdca26"
             ],
             [
              1,
              "#f0f921"
             ]
            ],
            "type": "surface"
           }
          ],
          "table": [
           {
            "cells": {
             "fill": {
              "color": "#EBF0F8"
             },
             "line": {
              "color": "white"
             }
            },
            "header": {
             "fill": {
              "color": "#C8D4E3"
             },
             "line": {
              "color": "white"
             }
            },
            "type": "table"
           }
          ]
         },
         "layout": {
          "annotationdefaults": {
           "arrowcolor": "#2a3f5f",
           "arrowhead": 0,
           "arrowwidth": 1
          },
          "autotypenumbers": "strict",
          "coloraxis": {
           "colorbar": {
            "outlinewidth": 0,
            "ticks": ""
           }
          },
          "colorscale": {
           "diverging": [
            [
             0,
             "#8e0152"
            ],
            [
             0.1,
             "#c51b7d"
            ],
            [
             0.2,
             "#de77ae"
            ],
            [
             0.3,
             "#f1b6da"
            ],
            [
             0.4,
             "#fde0ef"
            ],
            [
             0.5,
             "#f7f7f7"
            ],
            [
             0.6,
             "#e6f5d0"
            ],
            [
             0.7,
             "#b8e186"
            ],
            [
             0.8,
             "#7fbc41"
            ],
            [
             0.9,
             "#4d9221"
            ],
            [
             1,
             "#276419"
            ]
           ],
           "sequential": [
            [
             0,
             "#0d0887"
            ],
            [
             0.1111111111111111,
             "#46039f"
            ],
            [
             0.2222222222222222,
             "#7201a8"
            ],
            [
             0.3333333333333333,
             "#9c179e"
            ],
            [
             0.4444444444444444,
             "#bd3786"
            ],
            [
             0.5555555555555556,
             "#d8576b"
            ],
            [
             0.6666666666666666,
             "#ed7953"
            ],
            [
             0.7777777777777778,
             "#fb9f3a"
            ],
            [
             0.8888888888888888,
             "#fdca26"
            ],
            [
             1,
             "#f0f921"
            ]
           ],
           "sequentialminus": [
            [
             0,
             "#0d0887"
            ],
            [
             0.1111111111111111,
             "#46039f"
            ],
            [
             0.2222222222222222,
             "#7201a8"
            ],
            [
             0.3333333333333333,
             "#9c179e"
            ],
            [
             0.4444444444444444,
             "#bd3786"
            ],
            [
             0.5555555555555556,
             "#d8576b"
            ],
            [
             0.6666666666666666,
             "#ed7953"
            ],
            [
             0.7777777777777778,
             "#fb9f3a"
            ],
            [
             0.8888888888888888,
             "#fdca26"
            ],
            [
             1,
             "#f0f921"
            ]
           ]
          },
          "colorway": [
           "#636efa",
           "#EF553B",
           "#00cc96",
           "#ab63fa",
           "#FFA15A",
           "#19d3f3",
           "#FF6692",
           "#B6E880",
           "#FF97FF",
           "#FECB52"
          ],
          "font": {
           "color": "#2a3f5f"
          },
          "geo": {
           "bgcolor": "white",
           "lakecolor": "white",
           "landcolor": "#E5ECF6",
           "showlakes": true,
           "showland": true,
           "subunitcolor": "white"
          },
          "hoverlabel": {
           "align": "left"
          },
          "hovermode": "closest",
          "mapbox": {
           "style": "light"
          },
          "paper_bgcolor": "white",
          "plot_bgcolor": "#E5ECF6",
          "polar": {
           "angularaxis": {
            "gridcolor": "white",
            "linecolor": "white",
            "ticks": ""
           },
           "bgcolor": "#E5ECF6",
           "radialaxis": {
            "gridcolor": "white",
            "linecolor": "white",
            "ticks": ""
           }
          },
          "scene": {
           "xaxis": {
            "backgroundcolor": "#E5ECF6",
            "gridcolor": "white",
            "gridwidth": 2,
            "linecolor": "white",
            "showbackground": true,
            "ticks": "",
            "zerolinecolor": "white"
           },
           "yaxis": {
            "backgroundcolor": "#E5ECF6",
            "gridcolor": "white",
            "gridwidth": 2,
            "linecolor": "white",
            "showbackground": true,
            "ticks": "",
            "zerolinecolor": "white"
           },
           "zaxis": {
            "backgroundcolor": "#E5ECF6",
            "gridcolor": "white",
            "gridwidth": 2,
            "linecolor": "white",
            "showbackground": true,
            "ticks": "",
            "zerolinecolor": "white"
           }
          },
          "shapedefaults": {
           "line": {
            "color": "#2a3f5f"
           }
          },
          "ternary": {
           "aaxis": {
            "gridcolor": "white",
            "linecolor": "white",
            "ticks": ""
           },
           "baxis": {
            "gridcolor": "white",
            "linecolor": "white",
            "ticks": ""
           },
           "bgcolor": "#E5ECF6",
           "caxis": {
            "gridcolor": "white",
            "linecolor": "white",
            "ticks": ""
           }
          },
          "title": {
           "x": 0.05
          },
          "xaxis": {
           "automargin": true,
           "gridcolor": "white",
           "linecolor": "white",
           "ticks": "",
           "title": {
            "standoff": 15
           },
           "zerolinecolor": "white",
           "zerolinewidth": 2
          },
          "yaxis": {
           "automargin": true,
           "gridcolor": "white",
           "linecolor": "white",
           "ticks": "",
           "title": {
            "standoff": 15
           },
           "zerolinecolor": "white",
           "zerolinewidth": 2
          }
         }
        },
        "title": {
         "text": "DogeCoin Price"
        },
        "xaxis": {
         "anchor": "y",
         "domain": [
          0,
          1
         ],
         "title": {
          "text": "Date"
         }
        },
        "yaxis": {
         "anchor": "x",
         "domain": [
          0,
          1
         ],
         "title": {
          "text": "value"
         }
        }
       }
      },
      "text/html": [
       "<div>                            <div id=\"64d04251-97df-48bd-b970-9129e3ab45df\" class=\"plotly-graph-div\" style=\"height:525px; width:100%;\"></div>            <script type=\"text/javascript\">                require([\"plotly\"], function(Plotly) {                    window.PLOTLYENV=window.PLOTLYENV || {};                                    if (document.getElementById(\"64d04251-97df-48bd-b970-9129e3ab45df\")) {                    Plotly.newPlot(                        \"64d04251-97df-48bd-b970-9129e3ab45df\",                        [{\"hovertemplate\":\"variable=Low<br>Date=%{x}<br>value=%{y}<extra></extra>\",\"legendgroup\":\"Low\",\"line\":{\"color\":\"#636efa\",\"dash\":\"solid\"},\"marker\":{\"symbol\":\"circle\"},\"mode\":\"lines\",\"name\":\"Low\",\"orientation\":\"v\",\"showlegend\":true,\"x\":[\"2021-01-05T00:00:00\",\"2021-01-06T00:00:00\",\"2021-01-07T00:00:00\",\"2021-01-08T00:00:00\",\"2021-01-09T00:00:00\",\"2021-01-10T00:00:00\",\"2021-01-11T00:00:00\",\"2021-01-12T00:00:00\",\"2021-01-13T00:00:00\",\"2021-01-14T00:00:00\",\"2021-01-15T00:00:00\",\"2021-01-16T00:00:00\",\"2021-01-17T00:00:00\",\"2021-01-18T00:00:00\",\"2021-01-19T00:00:00\",\"2021-01-20T00:00:00\",\"2021-01-21T00:00:00\",\"2021-01-22T00:00:00\",\"2021-01-23T00:00:00\",\"2021-01-24T00:00:00\",\"2021-01-25T00:00:00\",\"2021-01-26T00:00:00\",\"2021-01-27T00:00:00\",\"2021-01-28T00:00:00\",\"2021-01-29T00:00:00\",\"2021-01-30T00:00:00\",\"2021-01-31T00:00:00\",\"2021-02-01T00:00:00\",\"2021-02-02T00:00:00\",\"2021-02-03T00:00:00\",\"2021-02-04T00:00:00\",\"2021-02-05T00:00:00\",\"2021-02-06T00:00:00\",\"2021-02-07T00:00:00\",\"2021-02-07T00:00:00\",\"2021-02-08T00:00:00\",\"2021-02-09T00:00:00\",\"2021-02-10T00:00:00\",\"2021-02-11T00:00:00\",\"2021-02-12T00:00:00\",\"2021-02-13T00:00:00\",\"2021-02-14T00:00:00\",\"2021-02-15T00:00:00\",\"2021-02-16T00:00:00\",\"2021-02-17T00:00:00\",\"2021-02-18T00:00:00\",\"2021-02-19T00:00:00\",\"2021-02-20T00:00:00\",\"2021-02-20T00:00:00\",\"2021-02-21T00:00:00\",\"2021-02-22T00:00:00\",\"2021-02-23T00:00:00\",\"2021-02-24T00:00:00\",\"2021-02-25T00:00:00\",\"2021-02-26T00:00:00\",\"2021-02-27T00:00:00\",\"2021-02-28T00:00:00\",\"2021-03-01T00:00:00\",\"2021-03-02T00:00:00\",\"2021-03-03T00:00:00\"],\"xaxis\":\"x\",\"y\":[0.008972,0.009685,0.009162,0.008986,0.00974,0.009177,0.00677,0.007904,0.007787,0.008349,0.00846,0.00914,0.008841,0.008981,0.00902,0.008529,0.008061,0.007654,0.008388,0.008516,0.008276,0.008022,0.007294,0.007351,0.032341,0.022488,0.027102,0.033367,0.029195,0.031146,0.035945,0.04354,0.044904,0.054239,0.054239,0.064702,0.065621,0.068525,0.06829,0.061445,0.066135,0.056723,0.048547,0.050983,0.048034,0.048989,0.054315,0.051628,0.051628,0.053556,0.047096,0.04241,0.046216,0.049869,0.048708,0.049297,0.045088,0.048029,0.049299,0.050078],\"yaxis\":\"y\",\"type\":\"scatter\"},{\"hovertemplate\":\"variable=High<br>Date=%{x}<br>value=%{y}<extra></extra>\",\"legendgroup\":\"High\",\"line\":{\"color\":\"#EF553B\",\"dash\":\"solid\"},\"marker\":{\"symbol\":\"circle\"},\"mode\":\"lines\",\"name\":\"High\",\"orientation\":\"v\",\"showlegend\":true,\"x\":[\"2021-01-05T00:00:00\",\"2021-01-06T00:00:00\",\"2021-01-07T00:00:00\",\"2021-01-08T00:00:00\",\"2021-01-09T00:00:00\",\"2021-01-10T00:00:00\",\"2021-01-11T00:00:00\",\"2021-01-12T00:00:00\",\"2021-01-13T00:00:00\",\"2021-01-14T00:00:00\",\"2021-01-15T00:00:00\",\"2021-01-16T00:00:00\",\"2021-01-17T00:00:00\",\"2021-01-18T00:00:00\",\"2021-01-19T00:00:00\",\"2021-01-20T00:00:00\",\"2021-01-21T00:00:00\",\"2021-01-22T00:00:00\",\"2021-01-23T00:00:00\",\"2021-01-24T00:00:00\",\"2021-01-25T00:00:00\",\"2021-01-26T00:00:00\",\"2021-01-27T00:00:00\",\"2021-01-28T00:00:00\",\"2021-01-29T00:00:00\",\"2021-01-30T00:00:00\",\"2021-01-31T00:00:00\",\"2021-02-01T00:00:00\",\"2021-02-02T00:00:00\",\"2021-02-03T00:00:00\",\"2021-02-04T00:00:00\",\"2021-02-05T00:00:00\",\"2021-02-06T00:00:00\",\"2021-02-07T00:00:00\",\"2021-02-07T00:00:00\",\"2021-02-08T00:00:00\",\"2021-02-09T00:00:00\",\"2021-02-10T00:00:00\",\"2021-02-11T00:00:00\",\"2021-02-12T00:00:00\",\"2021-02-13T00:00:00\",\"2021-02-14T00:00:00\",\"2021-02-15T00:00:00\",\"2021-02-16T00:00:00\",\"2021-02-17T00:00:00\",\"2021-02-18T00:00:00\",\"2021-02-19T00:00:00\",\"2021-02-20T00:00:00\",\"2021-02-20T00:00:00\",\"2021-02-21T00:00:00\",\"2021-02-22T00:00:00\",\"2021-02-23T00:00:00\",\"2021-02-24T00:00:00\",\"2021-02-25T00:00:00\",\"2021-02-26T00:00:00\",\"2021-02-27T00:00:00\",\"2021-02-28T00:00:00\",\"2021-03-01T00:00:00\",\"2021-03-02T00:00:00\",\"2021-03-03T00:00:00\"],\"xaxis\":\"x\",\"y\":[0.010219,0.010854,0.010532,0.010285,0.01074,0.010867,0.009858,0.009145,0.008646,0.01003,0.009796,0.009531,0.009367,0.009295,0.009613,0.009153,0.009089,0.008769,0.008808,0.008951,0.008879,0.008456,0.008259,0.034177,0.077973,0.049901,0.045289,0.04325,0.034926,0.039105,0.057869,0.05374,0.058308,0.084357,0.084357,0.084945,0.083128,0.081091,0.074301,0.07261,0.071646,0.066448,0.063924,0.059668,0.054983,0.061799,0.059497,0.060286,0.060286,0.058428,0.060466,0.053768,0.059873,0.057808,0.052472,0.05192,0.050134,0.051479,0.052382,0.052126],\"yaxis\":\"y\",\"type\":\"scatter\"}],                        {\"template\":{\"data\":{\"bar\":[{\"error_x\":{\"color\":\"#2a3f5f\"},\"error_y\":{\"color\":\"#2a3f5f\"},\"marker\":{\"line\":{\"color\":\"#E5ECF6\",\"width\":0.5},\"pattern\":{\"fillmode\":\"overlay\",\"size\":10,\"solidity\":0.2}},\"type\":\"bar\"}],\"barpolar\":[{\"marker\":{\"line\":{\"color\":\"#E5ECF6\",\"width\":0.5},\"pattern\":{\"fillmode\":\"overlay\",\"size\":10,\"solidity\":0.2}},\"type\":\"barpolar\"}],\"carpet\":[{\"aaxis\":{\"endlinecolor\":\"#2a3f5f\",\"gridcolor\":\"white\",\"linecolor\":\"white\",\"minorgridcolor\":\"white\",\"startlinecolor\":\"#2a3f5f\"},\"baxis\":{\"endlinecolor\":\"#2a3f5f\",\"gridcolor\":\"white\",\"linecolor\":\"white\",\"minorgridcolor\":\"white\",\"startlinecolor\":\"#2a3f5f\"},\"type\":\"carpet\"}],\"choropleth\":[{\"colorbar\":{\"outlinewidth\":0,\"ticks\":\"\"},\"type\":\"choropleth\"}],\"contour\":[{\"colorbar\":{\"outlinewidth\":0,\"ticks\":\"\"},\"colorscale\":[[0.0,\"#0d0887\"],[0.1111111111111111,\"#46039f\"],[0.2222222222222222,\"#7201a8\"],[0.3333333333333333,\"#9c179e\"],[0.4444444444444444,\"#bd3786\"],[0.5555555555555556,\"#d8576b\"],[0.6666666666666666,\"#ed7953\"],[0.7777777777777778,\"#fb9f3a\"],[0.8888888888888888,\"#fdca26\"],[1.0,\"#f0f921\"]],\"type\":\"contour\"}],\"contourcarpet\":[{\"colorbar\":{\"outlinewidth\":0,\"ticks\":\"\"},\"type\":\"contourcarpet\"}],\"heatmap\":[{\"colorbar\":{\"outlinewidth\":0,\"ticks\":\"\"},\"colorscale\":[[0.0,\"#0d0887\"],[0.1111111111111111,\"#46039f\"],[0.2222222222222222,\"#7201a8\"],[0.3333333333333333,\"#9c179e\"],[0.4444444444444444,\"#bd3786\"],[0.5555555555555556,\"#d8576b\"],[0.6666666666666666,\"#ed7953\"],[0.7777777777777778,\"#fb9f3a\"],[0.8888888888888888,\"#fdca26\"],[1.0,\"#f0f921\"]],\"type\":\"heatmap\"}],\"heatmapgl\":[{\"colorbar\":{\"outlinewidth\":0,\"ticks\":\"\"},\"colorscale\":[[0.0,\"#0d0887\"],[0.1111111111111111,\"#46039f\"],[0.2222222222222222,\"#7201a8\"],[0.3333333333333333,\"#9c179e\"],[0.4444444444444444,\"#bd3786\"],[0.5555555555555556,\"#d8576b\"],[0.6666666666666666,\"#ed7953\"],[0.7777777777777778,\"#fb9f3a\"],[0.8888888888888888,\"#fdca26\"],[1.0,\"#f0f921\"]],\"type\":\"heatmapgl\"}],\"histogram\":[{\"marker\":{\"pattern\":{\"fillmode\":\"overlay\",\"size\":10,\"solidity\":0.2}},\"type\":\"histogram\"}],\"histogram2d\":[{\"colorbar\":{\"outlinewidth\":0,\"ticks\":\"\"},\"colorscale\":[[0.0,\"#0d0887\"],[0.1111111111111111,\"#46039f\"],[0.2222222222222222,\"#7201a8\"],[0.3333333333333333,\"#9c179e\"],[0.4444444444444444,\"#bd3786\"],[0.5555555555555556,\"#d8576b\"],[0.6666666666666666,\"#ed7953\"],[0.7777777777777778,\"#fb9f3a\"],[0.8888888888888888,\"#fdca26\"],[1.0,\"#f0f921\"]],\"type\":\"histogram2d\"}],\"histogram2dcontour\":[{\"colorbar\":{\"outlinewidth\":0,\"ticks\":\"\"},\"colorscale\":[[0.0,\"#0d0887\"],[0.1111111111111111,\"#46039f\"],[0.2222222222222222,\"#7201a8\"],[0.3333333333333333,\"#9c179e\"],[0.4444444444444444,\"#bd3786\"],[0.5555555555555556,\"#d8576b\"],[0.6666666666666666,\"#ed7953\"],[0.7777777777777778,\"#fb9f3a\"],[0.8888888888888888,\"#fdca26\"],[1.0,\"#f0f921\"]],\"type\":\"histogram2dcontour\"}],\"mesh3d\":[{\"colorbar\":{\"outlinewidth\":0,\"ticks\":\"\"},\"type\":\"mesh3d\"}],\"parcoords\":[{\"line\":{\"colorbar\":{\"outlinewidth\":0,\"ticks\":\"\"}},\"type\":\"parcoords\"}],\"pie\":[{\"automargin\":true,\"type\":\"pie\"}],\"scatter\":[{\"marker\":{\"colorbar\":{\"outlinewidth\":0,\"ticks\":\"\"}},\"type\":\"scatter\"}],\"scatter3d\":[{\"line\":{\"colorbar\":{\"outlinewidth\":0,\"ticks\":\"\"}},\"marker\":{\"colorbar\":{\"outlinewidth\":0,\"ticks\":\"\"}},\"type\":\"scatter3d\"}],\"scattercarpet\":[{\"marker\":{\"colorbar\":{\"outlinewidth\":0,\"ticks\":\"\"}},\"type\":\"scattercarpet\"}],\"scattergeo\":[{\"marker\":{\"colorbar\":{\"outlinewidth\":0,\"ticks\":\"\"}},\"type\":\"scattergeo\"}],\"scattergl\":[{\"marker\":{\"colorbar\":{\"outlinewidth\":0,\"ticks\":\"\"}},\"type\":\"scattergl\"}],\"scattermapbox\":[{\"marker\":{\"colorbar\":{\"outlinewidth\":0,\"ticks\":\"\"}},\"type\":\"scattermapbox\"}],\"scatterpolar\":[{\"marker\":{\"colorbar\":{\"outlinewidth\":0,\"ticks\":\"\"}},\"type\":\"scatterpolar\"}],\"scatterpolargl\":[{\"marker\":{\"colorbar\":{\"outlinewidth\":0,\"ticks\":\"\"}},\"type\":\"scatterpolargl\"}],\"scatterternary\":[{\"marker\":{\"colorbar\":{\"outlinewidth\":0,\"ticks\":\"\"}},\"type\":\"scatterternary\"}],\"surface\":[{\"colorbar\":{\"outlinewidth\":0,\"ticks\":\"\"},\"colorscale\":[[0.0,\"#0d0887\"],[0.1111111111111111,\"#46039f\"],[0.2222222222222222,\"#7201a8\"],[0.3333333333333333,\"#9c179e\"],[0.4444444444444444,\"#bd3786\"],[0.5555555555555556,\"#d8576b\"],[0.6666666666666666,\"#ed7953\"],[0.7777777777777778,\"#fb9f3a\"],[0.8888888888888888,\"#fdca26\"],[1.0,\"#f0f921\"]],\"type\":\"surface\"}],\"table\":[{\"cells\":{\"fill\":{\"color\":\"#EBF0F8\"},\"line\":{\"color\":\"white\"}},\"header\":{\"fill\":{\"color\":\"#C8D4E3\"},\"line\":{\"color\":\"white\"}},\"type\":\"table\"}]},\"layout\":{\"annotationdefaults\":{\"arrowcolor\":\"#2a3f5f\",\"arrowhead\":0,\"arrowwidth\":1},\"autotypenumbers\":\"strict\",\"coloraxis\":{\"colorbar\":{\"outlinewidth\":0,\"ticks\":\"\"}},\"colorscale\":{\"diverging\":[[0,\"#8e0152\"],[0.1,\"#c51b7d\"],[0.2,\"#de77ae\"],[0.3,\"#f1b6da\"],[0.4,\"#fde0ef\"],[0.5,\"#f7f7f7\"],[0.6,\"#e6f5d0\"],[0.7,\"#b8e186\"],[0.8,\"#7fbc41\"],[0.9,\"#4d9221\"],[1,\"#276419\"]],\"sequential\":[[0.0,\"#0d0887\"],[0.1111111111111111,\"#46039f\"],[0.2222222222222222,\"#7201a8\"],[0.3333333333333333,\"#9c179e\"],[0.4444444444444444,\"#bd3786\"],[0.5555555555555556,\"#d8576b\"],[0.6666666666666666,\"#ed7953\"],[0.7777777777777778,\"#fb9f3a\"],[0.8888888888888888,\"#fdca26\"],[1.0,\"#f0f921\"]],\"sequentialminus\":[[0.0,\"#0d0887\"],[0.1111111111111111,\"#46039f\"],[0.2222222222222222,\"#7201a8\"],[0.3333333333333333,\"#9c179e\"],[0.4444444444444444,\"#bd3786\"],[0.5555555555555556,\"#d8576b\"],[0.6666666666666666,\"#ed7953\"],[0.7777777777777778,\"#fb9f3a\"],[0.8888888888888888,\"#fdca26\"],[1.0,\"#f0f921\"]]},\"colorway\":[\"#636efa\",\"#EF553B\",\"#00cc96\",\"#ab63fa\",\"#FFA15A\",\"#19d3f3\",\"#FF6692\",\"#B6E880\",\"#FF97FF\",\"#FECB52\"],\"font\":{\"color\":\"#2a3f5f\"},\"geo\":{\"bgcolor\":\"white\",\"lakecolor\":\"white\",\"landcolor\":\"#E5ECF6\",\"showlakes\":true,\"showland\":true,\"subunitcolor\":\"white\"},\"hoverlabel\":{\"align\":\"left\"},\"hovermode\":\"closest\",\"mapbox\":{\"style\":\"light\"},\"paper_bgcolor\":\"white\",\"plot_bgcolor\":\"#E5ECF6\",\"polar\":{\"angularaxis\":{\"gridcolor\":\"white\",\"linecolor\":\"white\",\"ticks\":\"\"},\"bgcolor\":\"#E5ECF6\",\"radialaxis\":{\"gridcolor\":\"white\",\"linecolor\":\"white\",\"ticks\":\"\"}},\"scene\":{\"xaxis\":{\"backgroundcolor\":\"#E5ECF6\",\"gridcolor\":\"white\",\"gridwidth\":2,\"linecolor\":\"white\",\"showbackground\":true,\"ticks\":\"\",\"zerolinecolor\":\"white\"},\"yaxis\":{\"backgroundcolor\":\"#E5ECF6\",\"gridcolor\":\"white\",\"gridwidth\":2,\"linecolor\":\"white\",\"showbackground\":true,\"ticks\":\"\",\"zerolinecolor\":\"white\"},\"zaxis\":{\"backgroundcolor\":\"#E5ECF6\",\"gridcolor\":\"white\",\"gridwidth\":2,\"linecolor\":\"white\",\"showbackground\":true,\"ticks\":\"\",\"zerolinecolor\":\"white\"}},\"shapedefaults\":{\"line\":{\"color\":\"#2a3f5f\"}},\"ternary\":{\"aaxis\":{\"gridcolor\":\"white\",\"linecolor\":\"white\",\"ticks\":\"\"},\"baxis\":{\"gridcolor\":\"white\",\"linecolor\":\"white\",\"ticks\":\"\"},\"bgcolor\":\"#E5ECF6\",\"caxis\":{\"gridcolor\":\"white\",\"linecolor\":\"white\",\"ticks\":\"\"}},\"title\":{\"x\":0.05},\"xaxis\":{\"automargin\":true,\"gridcolor\":\"white\",\"linecolor\":\"white\",\"ticks\":\"\",\"title\":{\"standoff\":15},\"zerolinecolor\":\"white\",\"zerolinewidth\":2},\"yaxis\":{\"automargin\":true,\"gridcolor\":\"white\",\"linecolor\":\"white\",\"ticks\":\"\",\"title\":{\"standoff\":15},\"zerolinecolor\":\"white\",\"zerolinewidth\":2}}},\"xaxis\":{\"anchor\":\"y\",\"domain\":[0.0,1.0],\"title\":{\"text\":\"Date\"}},\"yaxis\":{\"anchor\":\"x\",\"domain\":[0.0,1.0],\"title\":{\"text\":\"value\"}},\"legend\":{\"title\":{\"text\":\"variable\"},\"tracegroupgap\":0},\"title\":{\"text\":\"DogeCoin Price\"}},                        {\"responsive\": true}                    ).then(function(){\n",
       "                            \n",
       "var gd = document.getElementById('64d04251-97df-48bd-b970-9129e3ab45df');\n",
       "var x = new MutationObserver(function (mutations, observer) {{\n",
       "        var display = window.getComputedStyle(gd).display;\n",
       "        if (!display || display === 'none') {{\n",
       "            console.log([gd, 'removed!']);\n",
       "            Plotly.purge(gd);\n",
       "            observer.disconnect();\n",
       "        }}\n",
       "}});\n",
       "\n",
       "// Listen for the removal of the full notebook cells\n",
       "var notebookContainer = gd.closest('#notebook-container');\n",
       "if (notebookContainer) {{\n",
       "    x.observe(notebookContainer, {childList: true});\n",
       "}}\n",
       "\n",
       "// Listen for the clearing of the current output cell\n",
       "var outputEl = gd.closest('.output');\n",
       "if (outputEl) {{\n",
       "    x.observe(outputEl, {childList: true});\n",
       "}}\n",
       "\n",
       "                        })                };                });            </script>        </div>"
      ]
     },
     "metadata": {},
     "output_type": "display_data"
    }
   ],
   "source": [
    "##Example plot of first hot tweet\n",
    "import plotly.express as px\n",
    "fig = px.line(data_first_tweet, x=\"Date\", y=[\"Low\",\"High\"], title='DogeCoin Price')\n",
    "fig.show()"
   ]
  },
  {
   "cell_type": "code",
   "execution_count": 14,
   "metadata": {},
   "outputs": [],
   "source": [
    "## save dataset\n",
    "full_dataset.to_csv('../dat/cleaned_data/hot_tweets_merged_dataset.csv')"
   ]
  }
 ],
 "metadata": {
  "kernelspec": {
   "display_name": "Python 3",
   "language": "python",
   "name": "python3"
  },
  "language_info": {
   "codemirror_mode": {
    "name": "ipython",
    "version": 3
   },
   "file_extension": ".py",
   "mimetype": "text/x-python",
   "name": "python",
   "nbconvert_exporter": "python",
   "pygments_lexer": "ipython3",
   "version": "3.8.3"
  }
 },
 "nbformat": 4,
 "nbformat_minor": 5
}
