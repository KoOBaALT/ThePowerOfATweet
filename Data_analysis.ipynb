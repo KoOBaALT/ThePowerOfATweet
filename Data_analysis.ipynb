{
 "cells": [
  {
   "cell_type": "code",
   "execution_count": 1,
   "id": "bc0204f3",
   "metadata": {},
   "outputs": [
    {
     "data": {
      "text/plain": [
       "2355         @28delayslater @justpaulinelol Dogecoin Mode\n",
       "5597     Dogecoin value may vary  https://t.co/UWerAhPv63\n",
       "5598               Dogecoin rulz  https://t.co/flWWUgAgLU\n",
       "5599                                      @dogecoin Uh oh\n",
       "5600    @Tom_Heats Dogecoin might be my fav cryptocurr...\n",
       "2192     Dogecoin value may vary  https://t.co/UWerAhPv63\n",
       "2193               Dogecoin rulz  https://t.co/flWWUgAgLU\n",
       "2194                                      @dogecoin Uh oh\n",
       "2195    @Tom_Heats Dogecoin might be my fav cryptocurr...\n",
       "58      Origin of Doge Day Afternoon: The ancient Roma...\n",
       "149                    @draecomino 2022: Dogecoin is dumb\n",
       "221     @PPathole @dogecoin Just some used Antminer L3...\n",
       "223     @dogecoin I just set up some little Doge minin...\n",
       "254     If major Dogecoin holders sell most of their c...\n",
       "276     Bought some Dogecoin for lil X, so he can be a...\n",
       "310                         @Jbuttermost @Dogecoinrich 🤣🤣\n",
       "312                                      @Dogecoinrich 🤣🤣\n",
       "351                       Dogecoin is the people’s crypto\n",
       "2977         @28delayslater @justpaulinelol Dogecoin Mode\n",
       "6219     Dogecoin value may vary  https://t.co/UWerAhPv63\n",
       "6220               Dogecoin rulz  https://t.co/flWWUgAgLU\n",
       "6221                                      @dogecoin Uh oh\n",
       "6222    @Tom_Heats Dogecoin might be my fav cryptocurr...\n",
       "Name: tweet, dtype: object"
      ]
     },
     "execution_count": 1,
     "metadata": {},
     "output_type": "execute_result"
    }
   ],
   "source": [
    "import pandas as pd\n",
    "import os\n",
    "\n",
    "df_tweets = pd.read_csv(\"tweets/\"+os.listdir(\"tweets\")[0])\n",
    "for f in os.listdir(\"tweets\")[1:]:\n",
    "    df_tweet = pd.read_csv(\"tweets/\"+f)\n",
    "    df_tweets = df_tweets.append(df_tweet)\n",
    "    \n",
    "df_tweets = df_tweets.drop(\"Unnamed: 0\", axis = 1)\n",
    "\n",
    "index = df_tweets.tweet.str.contains(\"dogecoin\", case=False)\n",
    "df_tweets[index].tweet"
   ]
  },
  {
   "cell_type": "markdown",
   "id": "765c1296",
   "metadata": {},
   "source": [
    "Change date column to datetime format"
   ]
  },
  {
   "cell_type": "code",
   "execution_count": 5,
   "id": "d69d130f",
   "metadata": {},
   "outputs": [
    {
     "name": "stdout",
     "output_type": "stream",
     "text": [
      "Klone nach 'ThePowerOfATweet' ...\n",
      "The authenticity of host 'github.com (140.82.121.3)' can't be established.\n",
      "ECDSA key fingerprint is SHA256:p2QAMXNIC1TJYWeIOttrVc98/R1BUFWu3/LiyKgUfQM.\n",
      "Are you sure you want to continue connecting (yes/no/[fingerprint])? ^C\n"
     ]
    }
   ],
   "source": [
    "git clone git@github.com:KoOBaALT/ThePowerOfATweet.git\n",
    "    \n"
   ]
  },
  {
   "cell_type": "code",
   "execution_count": 8,
   "id": "193f2963",
   "metadata": {},
   "outputs": [
    {
     "ename": "AttributeError",
     "evalue": "module 'pandas' has no attribute 'apply'",
     "output_type": "error",
     "traceback": [
      "\u001b[0;31m---------------------------------------------------------------------------\u001b[0m",
      "\u001b[0;31mAttributeError\u001b[0m                            Traceback (most recent call last)",
      "\u001b[0;32m/tmp/ipykernel_4968/2069878468.py\u001b[0m in \u001b[0;36m<module>\u001b[0;34m\u001b[0m\n\u001b[1;32m      2\u001b[0m \u001b[0;32mimport\u001b[0m \u001b[0mnumpy\u001b[0m \u001b[0;32mas\u001b[0m \u001b[0mnp\u001b[0m\u001b[0;34m\u001b[0m\u001b[0;34m\u001b[0m\u001b[0m\n\u001b[1;32m      3\u001b[0m \u001b[0;34m\u001b[0m\u001b[0m\n\u001b[0;32m----> 4\u001b[0;31m \u001b[0mnew_date\u001b[0m \u001b[0;34m=\u001b[0m \u001b[0mpd\u001b[0m\u001b[0;34m.\u001b[0m\u001b[0mapply\u001b[0m\u001b[0;34m(\u001b[0m\u001b[0mdf_tweets\u001b[0m\u001b[0;34m[\u001b[0m\u001b[0;34m\"date\"\u001b[0m\u001b[0;34m]\u001b[0m\u001b[0;34m,\u001b[0m \u001b[0;32mlambda\u001b[0m \u001b[0mx\u001b[0m\u001b[0;34m:\u001b[0m \u001b[0mdatetime\u001b[0m\u001b[0;34m.\u001b[0m\u001b[0mstrptime\u001b[0m\u001b[0;34m(\u001b[0m\u001b[0mx\u001b[0m\u001b[0;34m,\u001b[0m\u001b[0;34m\"%Y-%m-%d %H:%M:%S\"\u001b[0m\u001b[0;34m)\u001b[0m\u001b[0;34m)\u001b[0m\u001b[0;34m\u001b[0m\u001b[0;34m\u001b[0m\u001b[0m\n\u001b[0m\u001b[1;32m      5\u001b[0m \u001b[0;34m\u001b[0m\u001b[0m\n",
      "\u001b[0;32m~/anaconda3/lib/python3.9/site-packages/pandas/__init__.py\u001b[0m in \u001b[0;36m__getattr__\u001b[0;34m(name)\u001b[0m\n\u001b[1;32m    242\u001b[0m         \u001b[0;32mreturn\u001b[0m \u001b[0m_SparseArray\u001b[0m\u001b[0;34m\u001b[0m\u001b[0;34m\u001b[0m\u001b[0m\n\u001b[1;32m    243\u001b[0m \u001b[0;34m\u001b[0m\u001b[0m\n\u001b[0;32m--> 244\u001b[0;31m     \u001b[0;32mraise\u001b[0m \u001b[0mAttributeError\u001b[0m\u001b[0;34m(\u001b[0m\u001b[0;34mf\"module 'pandas' has no attribute '{name}'\"\u001b[0m\u001b[0;34m)\u001b[0m\u001b[0;34m\u001b[0m\u001b[0;34m\u001b[0m\u001b[0m\n\u001b[0m\u001b[1;32m    245\u001b[0m \u001b[0;34m\u001b[0m\u001b[0m\n\u001b[1;32m    246\u001b[0m \u001b[0;34m\u001b[0m\u001b[0m\n",
      "\u001b[0;31mAttributeError\u001b[0m: module 'pandas' has no attribute 'apply'"
     ]
    }
   ],
   "source": [
    "from datetime import datetime\n",
    "import numpy as np\n",
    "\n",
    "date_changer = lambda x: datetime.strptime(x,\"%Y-%m-%d %H:%M:%S\"\n",
    "new_date =  datetime.strptime(x,\"%Y-%m-%d %H:%M:%S\"))\n",
    "\n"
   ]
  }
 ],
 "metadata": {
  "kernelspec": {
   "display_name": "Python 3 (ipykernel)",
   "language": "python",
   "name": "python3"
  },
  "language_info": {
   "codemirror_mode": {
    "name": "ipython",
    "version": 3
   },
   "file_extension": ".py",
   "mimetype": "text/x-python",
   "name": "python",
   "nbconvert_exporter": "python",
   "pygments_lexer": "ipython3",
   "version": "3.9.7"
  }
 },
 "nbformat": 4,
 "nbformat_minor": 5
}
